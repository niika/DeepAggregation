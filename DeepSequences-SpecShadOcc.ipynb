{
 "cells": [
  {
   "cell_type": "markdown",
   "metadata": {},
   "source": [
    "# Train Model"
   ]
  },
  {
   "cell_type": "code",
   "execution_count": 1,
   "metadata": {},
   "outputs": [],
   "source": [
    "from comet_ml import Experiment\n",
    "from pytorch_lightning.loggers import CometLogger\n",
    "import datasets\n",
    "import torch\n",
    "from architectures import *\n",
    "from torch.utils.data import Dataset, DataLoader\n",
    "import pytorch_lightning as pl\n",
    "import torchvision\n",
    "from pytorch_lightning.callbacks import ModelCheckpoint\n",
    "from pytorch_lightning.callbacks import LearningRateMonitor\n",
    "import optuna\n",
    "import logging\n",
    "%config Completer.use_jedi = False"
   ]
  },
  {
   "cell_type": "code",
   "execution_count": 4,
   "metadata": {},
   "outputs": [
    {
     "name": "stdout",
     "output_type": "stream",
     "text": [
      "GeForce RTX 2070\n",
      "Memory Usage:\n",
      "Allocated: 0.0 GB\n",
      "Cached:    0.0 GB\n"
     ]
    }
   ],
   "source": [
    "device = torch.device('cuda' if torch.cuda.is_available() else 'cpu')\n",
    "if device.type == 'cuda':\n",
    "    print(torch.cuda.get_device_name(0))\n",
    "    print('Memory Usage:')\n",
    "    print('Allocated:', round(torch.cuda.memory_allocated(0)/1024**3,1), 'GB')\n",
    "    print('Cached:   ', round(torch.cuda.memory_reserved(0)/1024**3,1), 'GB')"
   ]
  },
  {
   "cell_type": "code",
   "execution_count": 2,
   "metadata": {},
   "outputs": [],
   "source": [
    "optuna.logging.enable_default_handler()\n",
    "logging.getLogger().setLevel(logging.INFO)  # Setup the root logger.\n",
    "logging.getLogger().addHandler(logging.FileHandler('optuna.log'))\n",
    "optuna.logging.enable_propagation() "
   ]
  },
  {
   "cell_type": "code",
   "execution_count": 3,
   "metadata": {},
   "outputs": [],
   "source": [
    "# Configure Dataset\n",
    "dataset = datasets.SpecShadOcc(\"SpecShadOcc/\", 9)\n",
    "test_length = 20\n",
    "train_dataset, test_dataset = torch.utils.data.random_split(dataset, [len(dataset)-test_length,test_length])\n",
    "train_datasets = [datasets.SpecShadOccN(dataset, i) for i in range(1,9)]\n",
    "train_loader = DataLoader(train_dataset, batch_size=5, shuffle=True)\n",
    "#train_loaders = [DataLoader(train_dataset, batch_size=2, shuffle=True) for train_dataset in train_datasets] \n",
    "test_loader = DataLoader(test_dataset,batch_size=10)\n",
    "\n",
    "def objective(trial: optuna.trial.Trial):\n",
    "\n",
    "    planes  = trial.suggest_int(\"planes\", low=10, high=20, step=1)\n",
    "    downsampling_factor= trial.suggest_int(\"downsampling_factor\", low=0, high=3, step=1)\n",
    "    encoder_num_blocks = trial.suggest_int(\"encoder_num_blocks\", low=5, high=20, step=5)\n",
    "    decoder_num_blocks = trial.suggest_int(\"decoder_num_blocks\", low=5, high=20, step=5)\n",
    "    smooth_num_blocks  = trial.suggest_int(\"smooth_num_blocks\", low=5, high=20, step=5)\n",
    "\n",
    "    agg_block = trial.suggest_categorical(\"agg_block\",[\"Attention\"])\n",
    "    \n",
    "    if agg_block==\"Attention\":\n",
    "        agg_params = { \n",
    "            \"mode\": trial.suggest_categorical(\"mode\",[\"softmax\",\"sum\",\"mean\"]),\n",
    "            \"num_heads\": trial.suggest_int(\"num_heads\", low=4, high=8, step=4),\n",
    "            \"dim_feedforward\": trial.suggest_int(\"dim_feedforward\", low=64, high=128, step=64),\n",
    "            \"num_layers\": trial.suggest_int(\"num_layers\", low=2, high=4, step=1),\n",
    "        }\n",
    "    else:\n",
    "        agg_params = {}\n",
    "    \n",
    "    #lr_monitor = LearningRateMonitor(logging_interval='step')\n",
    "    try:\n",
    "        net = DeepAggNet(planes=planes, downsampling_factor=downsampling_factor,\n",
    "                         encoder_num_blocks=encoder_num_blocks, \n",
    "                         decoder_num_blocks=decoder_num_blocks, smooth_num_blocks=smooth_num_blocks,\n",
    "                         agg_block=agg_block, **agg_params)\n",
    "\n",
    "        # Create Logger\n",
    "        comet_logger = CometLogger(\n",
    "            api_key=\"tMEjeyq5M7v1IPRCvS5fyGyuo\",\n",
    "            workspace=\"semjon\", # Optional\n",
    "            project_name=\"specshadocc\", # Optional\n",
    "            # rest_api_key=os.environ[\"COMET_REST_KEY\"], \n",
    "            save_dir='./hyperparameter',\n",
    "            experiment_name=\"specshadocc-\" + agg_block, # Optional,\n",
    "            display_summary_level = 0\n",
    "        )\n",
    "\n",
    "        early_stop = pl.callbacks.EarlyStopping('val_loss', patience=5)\n",
    "        trainer = pl.Trainer(gpus=1,logger=comet_logger, max_epochs=100, \n",
    "                             #fast_dev_run=True,\n",
    "                             callbacks=[early_stop], \n",
    "                             progress_bar_refresh_rate=0)\n",
    "        trainer.fit(net, train_loader, val_dataloaders=test_loader)\n",
    "        return trainer.test(net, test_loader)[0][\"test_loss\"]\n",
    "    except:\n",
    "        print(\"An exception occurred\")\n",
    "        return 0.1\n",
    "    \n"
   ]
  },
  {
   "cell_type": "code",
   "execution_count": 4,
   "metadata": {},
   "outputs": [
    {
     "name": "stderr",
     "output_type": "stream",
     "text": [
      "\u001b[32m[I 2021-03-19 14:42:06,166]\u001b[0m A new study created in memory with name: no-name-7cb6c7d1-cc71-4bed-bee5-4399f9e3f748\u001b[0m\n",
      "\u001b[32m[I 2021-03-19 14:42:06,176]\u001b[0m Trial 0 finished with value: 0.1 and parameters: {'planes': 15, 'downsampling_factor': 1, 'encoder_num_blocks': 5, 'decoder_num_blocks': 20, 'smooth_num_blocks': 5, 'agg_block': 'Attention', 'mode': 'sum', 'num_heads': 8, 'dim_feedforward': 64, 'num_layers': 3}. Best is trial 0 with value: 0.1.\u001b[0m\n",
      "CometLogger will be initialized in online mode\n",
      "GPU available: True, used: True\n",
      "TPU available: None, using: 0 TPU cores\n"
     ]
    },
    {
     "name": "stdout",
     "output_type": "stream",
     "text": [
      "An exception occurred\n"
     ]
    },
    {
     "name": "stderr",
     "output_type": "stream",
     "text": [
      "COMET INFO: Experiment is live on comet.ml https://www.comet.ml/semjon/specshadocc/f2014bcee9bc4622a01247dc8c2e59d7\n",
      "\n",
      "\n",
      "  | Name       | Type                 | Params\n",
      "----------------------------------------------------\n",
      "0 | input      | Conv2d               | 280   \n",
      "1 | output     | Conv2d               | 273   \n",
      "2 | downsample | Sequential           | 1.8 K \n",
      "3 | upsample   | Sequential           | 1.8 K \n",
      "4 | encoder    | Sequential           | 72.4 K\n",
      "5 | agg        | AttentionAggregation | 8.8 K \n",
      "6 | decoder    | Sequential           | 108 K \n",
      "7 | smooth     | Sequential           | 10.9 K\n",
      "----------------------------------------------------\n",
      "204 K     Trainable params\n",
      "0         Non-trainable params\n",
      "204 K     Total params\n",
      "0.820     Total estimated model params size (MB)\n",
      "\u001b[32m[I 2021-03-19 14:42:13,970]\u001b[0m Trial 1 finished with value: 0.1 and parameters: {'planes': 10, 'downsampling_factor': 1, 'encoder_num_blocks': 10, 'decoder_num_blocks': 15, 'smooth_num_blocks': 5, 'agg_block': 'Attention', 'mode': 'sum', 'num_heads': 4, 'dim_feedforward': 64, 'num_layers': 2}. Best is trial 0 with value: 0.1.\u001b[0m\n",
      "CometLogger will be initialized in online mode\n",
      "GPU available: True, used: True\n",
      "TPU available: None, using: 0 TPU cores\n"
     ]
    },
    {
     "name": "stdout",
     "output_type": "stream",
     "text": [
      "An exception occurred\n"
     ]
    },
    {
     "name": "stderr",
     "output_type": "stream",
     "text": [
      "COMET INFO: Experiment is live on comet.ml https://www.comet.ml/semjon/specshadocc/94b44e03888d4b3a8a597961f22c1b29\n",
      "\n",
      "\n",
      "  | Name       | Type                 | Params\n",
      "----------------------------------------------------\n",
      "0 | input      | Conv2d               | 840   \n",
      "1 | output     | Conv2d               | 813   \n",
      "2 | downsample | Sequential           | 340 K \n",
      "3 | upsample   | Sequential           | 340 K \n",
      "4 | encoder    | Sequential           | 5.2 M \n",
      "5 | agg        | AttentionAggregation | 1.2 M \n",
      "6 | decoder    | Sequential           | 5.2 M \n",
      "7 | smooth     | Sequential           | 341 K \n",
      "----------------------------------------------------\n",
      "12.6 M    Trainable params\n",
      "0         Non-trainable params\n",
      "12.6 M    Total params\n",
      "50.294    Total estimated model params size (MB)\n",
      "\u001b[32m[I 2021-03-19 14:42:20,076]\u001b[0m Trial 2 finished with value: 0.1 and parameters: {'planes': 30, 'downsampling_factor': 3, 'encoder_num_blocks': 5, 'decoder_num_blocks': 5, 'smooth_num_blocks': 20, 'agg_block': 'Attention', 'mode': 'mean', 'num_heads': 4, 'dim_feedforward': 128, 'num_layers': 4}. Best is trial 0 with value: 0.1.\u001b[0m\n",
      "\u001b[32m[I 2021-03-19 14:42:20,080]\u001b[0m Trial 3 finished with value: 0.1 and parameters: {'planes': 15, 'downsampling_factor': 0, 'encoder_num_blocks': 5, 'decoder_num_blocks': 15, 'smooth_num_blocks': 10, 'agg_block': 'Attention', 'mode': 'mean', 'num_heads': 8, 'dim_feedforward': 128, 'num_layers': 3}. Best is trial 0 with value: 0.1.\u001b[0m\n",
      "\u001b[32m[I 2021-03-19 14:42:20,090]\u001b[0m Trial 4 finished with value: 0.1 and parameters: {'planes': 25, 'downsampling_factor': 1, 'encoder_num_blocks': 15, 'decoder_num_blocks': 10, 'smooth_num_blocks': 5, 'agg_block': 'Attention', 'mode': 'mean', 'num_heads': 4, 'dim_feedforward': 64, 'num_layers': 3}. Best is trial 0 with value: 0.1.\u001b[0m\n",
      "\u001b[32m[I 2021-03-19 14:42:20,103]\u001b[0m Trial 5 finished with value: 0.1 and parameters: {'planes': 30, 'downsampling_factor': 1, 'encoder_num_blocks': 20, 'decoder_num_blocks': 10, 'smooth_num_blocks': 5, 'agg_block': 'Attention', 'mode': 'mean', 'num_heads': 8, 'dim_feedforward': 128, 'num_layers': 4}. Best is trial 0 with value: 0.1.\u001b[0m\n",
      "CometLogger will be initialized in online mode\n",
      "GPU available: True, used: True\n",
      "TPU available: None, using: 0 TPU cores\n"
     ]
    },
    {
     "name": "stdout",
     "output_type": "stream",
     "text": [
      "An exception occurred\n",
      "An exception occurred\n",
      "An exception occurred\n",
      "An exception occurred\n"
     ]
    },
    {
     "name": "stderr",
     "output_type": "stream",
     "text": [
      "COMET INFO: Experiment is live on comet.ml https://www.comet.ml/semjon/specshadocc/f63274a8ec8f4046980adb688444efe5\n",
      "\n",
      "\n",
      "  | Name       | Type                 | Params\n",
      "----------------------------------------------------\n",
      "0 | input      | Conv2d               | 280   \n",
      "1 | output     | Conv2d               | 273   \n",
      "2 | downsample | Sequential           | 37.9 K\n",
      "3 | upsample   | Sequential           | 37.9 K\n",
      "4 | encoder    | Sequential           | 576 K \n",
      "5 | agg        | AttentionAggregation | 73.2 K\n",
      "6 | decoder    | Sequential           | 1.7 M \n",
      "7 | smooth     | Sequential           | 10.9 K\n",
      "----------------------------------------------------\n",
      "2.5 M     Trainable params\n",
      "0         Non-trainable params\n",
      "2.5 M     Total params\n",
      "9.871     Total estimated model params size (MB)\n",
      "\u001b[32m[I 2021-03-19 14:42:25,841]\u001b[0m Trial 6 finished with value: 0.1 and parameters: {'planes': 10, 'downsampling_factor': 3, 'encoder_num_blocks': 5, 'decoder_num_blocks': 15, 'smooth_num_blocks': 5, 'agg_block': 'Attention', 'mode': 'sum', 'num_heads': 8, 'dim_feedforward': 64, 'num_layers': 2}. Best is trial 0 with value: 0.1.\u001b[0m\n",
      "CometLogger will be initialized in online mode\n",
      "GPU available: True, used: True\n",
      "TPU available: None, using: 0 TPU cores\n"
     ]
    },
    {
     "name": "stdout",
     "output_type": "stream",
     "text": [
      "An exception occurred\n"
     ]
    },
    {
     "name": "stderr",
     "output_type": "stream",
     "text": [
      "COMET INFO: Experiment is live on comet.ml https://www.comet.ml/semjon/specshadocc/cafe696dfeb64b0b84e9facaa7b2c86c\n",
      "\n",
      "\n",
      "  | Name       | Type                 | Params\n",
      "----------------------------------------------------\n",
      "0 | input      | Conv2d               | 280   \n",
      "1 | output     | Conv2d               | 273   \n",
      "2 | downsample | Sequential           | 37.9 K\n",
      "3 | upsample   | Sequential           | 37.9 K\n",
      "4 | encoder    | Sequential           | 1.2 M \n",
      "5 | agg        | AttentionAggregation | 146 K \n",
      "6 | decoder    | Sequential           | 1.7 M \n",
      "7 | smooth     | Sequential           | 38.2 K\n",
      "----------------------------------------------------\n",
      "3.1 M     Trainable params\n",
      "0         Non-trainable params\n",
      "3.1 M     Total params\n",
      "12.580    Total estimated model params size (MB)\n",
      "\u001b[32m[I 2021-03-19 14:42:31,728]\u001b[0m Trial 7 finished with value: 0.1 and parameters: {'planes': 10, 'downsampling_factor': 3, 'encoder_num_blocks': 10, 'decoder_num_blocks': 15, 'smooth_num_blocks': 20, 'agg_block': 'Attention', 'mode': 'softmax', 'num_heads': 8, 'dim_feedforward': 64, 'num_layers': 4}. Best is trial 0 with value: 0.1.\u001b[0m\n",
      "\u001b[32m[I 2021-03-19 14:42:31,733]\u001b[0m Trial 8 finished with value: 0.1 and parameters: {'planes': 10, 'downsampling_factor': 0, 'encoder_num_blocks': 5, 'decoder_num_blocks': 10, 'smooth_num_blocks': 5, 'agg_block': 'Attention', 'mode': 'softmax', 'num_heads': 4, 'dim_feedforward': 64, 'num_layers': 2}. Best is trial 0 with value: 0.1.\u001b[0m\n",
      "CometLogger will be initialized in online mode\n",
      "GPU available: True, used: True\n",
      "TPU available: None, using: 0 TPU cores\n"
     ]
    },
    {
     "name": "stdout",
     "output_type": "stream",
     "text": [
      "An exception occurred\n",
      "An exception occurred\n"
     ]
    },
    {
     "name": "stderr",
     "output_type": "stream",
     "text": [
      "COMET INFO: Experiment is live on comet.ml https://www.comet.ml/semjon/specshadocc/14c66429ed244dbfac0549b590175d2c\n",
      "\n",
      "\n",
      "  | Name       | Type                 | Params\n",
      "----------------------------------------------------\n",
      "0 | input      | Conv2d               | 560   \n",
      "1 | output     | Conv2d               | 543   \n",
      "2 | downsample | Sequential           | 0     \n",
      "3 | upsample   | Sequential           | 0     \n",
      "4 | encoder    | Sequential           | 144 K \n",
      "5 | agg        | AttentionAggregation | 13.2 K\n",
      "6 | decoder    | Sequential           | 72.4 K\n",
      "7 | smooth     | Sequential           | 43.4 K\n",
      "----------------------------------------------------\n",
      "274 K     Trainable params\n",
      "0         Non-trainable params\n",
      "274 K     Total params\n",
      "1.100     Total estimated model params size (MB)\n",
      "\u001b[32m[I 2021-03-19 14:42:38,890]\u001b[0m Trial 9 finished with value: 0.1 and parameters: {'planes': 20, 'downsampling_factor': 0, 'encoder_num_blocks': 20, 'decoder_num_blocks': 10, 'smooth_num_blocks': 5, 'agg_block': 'Attention', 'mode': 'sum', 'num_heads': 4, 'dim_feedforward': 64, 'num_layers': 3}. Best is trial 0 with value: 0.1.\u001b[0m\n",
      "CometLogger will be initialized in online mode\n",
      "GPU available: True, used: True\n",
      "TPU available: None, using: 0 TPU cores\n"
     ]
    },
    {
     "name": "stdout",
     "output_type": "stream",
     "text": [
      "An exception occurred\n"
     ]
    },
    {
     "name": "stderr",
     "output_type": "stream",
     "text": [
      "COMET INFO: Experiment is live on comet.ml https://www.comet.ml/semjon/specshadocc/917403bd206c4dc5a03d751b99b42f72\n",
      "\n",
      "\n",
      "  | Name       | Type                 | Params\n",
      "----------------------------------------------------\n",
      "0 | input      | Conv2d               | 560   \n",
      "1 | output     | Conv2d               | 543   \n",
      "2 | downsample | Sequential           | 36.1 K\n",
      "3 | upsample   | Sequential           | 36.1 K\n",
      "4 | encoder    | Sequential           | 1.7 M \n",
      "5 | agg        | AttentionAggregation | 140 K \n",
      "6 | decoder    | Sequential           | 2.3 M \n",
      "7 | smooth     | Sequential           | 115 K \n",
      "----------------------------------------------------\n",
      "4.4 M     Trainable params\n",
      "0         Non-trainable params\n",
      "4.4 M     Total params\n",
      "17.470    Total estimated model params size (MB)\n",
      "\u001b[32m[I 2021-03-19 14:42:45,178]\u001b[0m Trial 10 finished with value: 0.1 and parameters: {'planes': 20, 'downsampling_factor': 2, 'encoder_num_blocks': 15, 'decoder_num_blocks': 20, 'smooth_num_blocks': 15, 'agg_block': 'Attention', 'mode': 'sum', 'num_heads': 8, 'dim_feedforward': 128, 'num_layers': 3}. Best is trial 0 with value: 0.1.\u001b[0m\n",
      "\u001b[32m[I 2021-03-19 14:42:45,202]\u001b[0m Trial 11 finished with value: 0.1 and parameters: {'planes': 15, 'downsampling_factor': 1, 'encoder_num_blocks': 10, 'decoder_num_blocks': 20, 'smooth_num_blocks': 10, 'agg_block': 'Attention', 'mode': 'sum', 'num_heads': 4, 'dim_feedforward': 64, 'num_layers': 2}. Best is trial 0 with value: 0.1.\u001b[0m\n",
      "CometLogger will be initialized in online mode\n",
      "GPU available: True, used: True\n",
      "TPU available: None, using: 0 TPU cores\n"
     ]
    },
    {
     "name": "stdout",
     "output_type": "stream",
     "text": [
      "An exception occurred\n",
      "An exception occurred\n"
     ]
    },
    {
     "name": "stderr",
     "output_type": "stream",
     "text": [
      "COMET INFO: Experiment is live on comet.ml https://www.comet.ml/semjon/specshadocc/4200baf5e08648659c322395bfd3684c\n",
      "\n",
      "\n",
      "  | Name       | Type                 | Params\n",
      "----------------------------------------------------\n",
      "0 | input      | Conv2d               | 420   \n",
      "1 | output     | Conv2d               | 408   \n",
      "2 | downsample | Sequential           | 20.3 K\n",
      "3 | upsample   | Sequential           | 20.3 K\n",
      "4 | encoder    | Sequential           | 649 K \n",
      "5 | agg        | AttentionAggregation | 45.4 K\n",
      "6 | decoder    | Sequential           | 1.3 M \n",
      "7 | smooth     | Sequential           | 44.9 K\n",
      "----------------------------------------------------\n",
      "2.1 M     Trainable params\n",
      "0         Non-trainable params\n",
      "2.1 M     Total params\n",
      "8.317     Total estimated model params size (MB)\n",
      "\u001b[32m[I 2021-03-19 14:42:51,079]\u001b[0m Trial 12 finished with value: 0.1 and parameters: {'planes': 15, 'downsampling_factor': 2, 'encoder_num_blocks': 10, 'decoder_num_blocks': 20, 'smooth_num_blocks': 10, 'agg_block': 'Attention', 'mode': 'sum', 'num_heads': 4, 'dim_feedforward': 64, 'num_layers': 2}. Best is trial 0 with value: 0.1.\u001b[0m\n",
      "\u001b[32m[I 2021-03-19 14:42:51,102]\u001b[0m Trial 13 finished with value: 0.1 and parameters: {'planes': 15, 'downsampling_factor': 1, 'encoder_num_blocks': 10, 'decoder_num_blocks': 20, 'smooth_num_blocks': 15, 'agg_block': 'Attention', 'mode': 'sum', 'num_heads': 8, 'dim_feedforward': 64, 'num_layers': 3}. Best is trial 0 with value: 0.1.\u001b[0m\n",
      "CometLogger will be initialized in online mode\n",
      "GPU available: True, used: True\n",
      "TPU available: None, using: 0 TPU cores\n"
     ]
    },
    {
     "name": "stdout",
     "output_type": "stream",
     "text": [
      "An exception occurred\n",
      "An exception occurred\n"
     ]
    },
    {
     "name": "stderr",
     "output_type": "stream",
     "text": [
      "COMET INFO: Experiment is live on comet.ml https://www.comet.ml/semjon/specshadocc/3edbacbae99d42b79a0f46e22a93321b\n",
      "\n",
      "\n",
      "  | Name       | Type                 | Params\n",
      "----------------------------------------------------\n",
      "0 | input      | Conv2d               | 280   \n",
      "1 | output     | Conv2d               | 273   \n",
      "2 | downsample | Sequential           | 9.1 K \n",
      "3 | upsample   | Sequential           | 9.0 K \n",
      "4 | encoder    | Sequential           | 433 K \n",
      "5 | agg        | AttentionAggregation | 23.9 K\n",
      "6 | decoder    | Sequential           | 433 K \n",
      "7 | smooth     | Sequential           | 20.0 K\n",
      "----------------------------------------------------\n",
      "928 K     Trainable params\n",
      "0         Non-trainable params\n",
      "928 K     Total params\n",
      "3.716     Total estimated model params size (MB)\n",
      "\u001b[32m[I 2021-03-19 14:42:57,126]\u001b[0m Trial 14 finished with value: 0.1 and parameters: {'planes': 10, 'downsampling_factor': 2, 'encoder_num_blocks': 15, 'decoder_num_blocks': 15, 'smooth_num_blocks': 10, 'agg_block': 'Attention', 'mode': 'sum', 'num_heads': 8, 'dim_feedforward': 64, 'num_layers': 2}. Best is trial 0 with value: 0.1.\u001b[0m\n",
      "\u001b[32m[I 2021-03-19 14:42:57,147]\u001b[0m Trial 15 finished with value: 0.1 and parameters: {'planes': 15, 'downsampling_factor': 1, 'encoder_num_blocks': 5, 'decoder_num_blocks': 20, 'smooth_num_blocks': 5, 'agg_block': 'Attention', 'mode': 'sum', 'num_heads': 4, 'dim_feedforward': 64, 'num_layers': 3}. Best is trial 0 with value: 0.1.\u001b[0m\n",
      "CometLogger will be initialized in online mode\n",
      "GPU available: True, used: True\n",
      "TPU available: None, using: 0 TPU cores\n"
     ]
    },
    {
     "name": "stdout",
     "output_type": "stream",
     "text": [
      "An exception occurred\n",
      "An exception occurred\n"
     ]
    },
    {
     "name": "stderr",
     "output_type": "stream",
     "text": [
      "COMET INFO: Experiment is live on comet.ml https://www.comet.ml/semjon/specshadocc/57646761f1b54a1ba28649d7ea4d9533\n",
      "\n",
      "\n",
      "  | Name       | Type                 | Params\n",
      "----------------------------------------------------\n",
      "0 | input      | Conv2d               | 560   \n",
      "1 | output     | Conv2d               | 543   \n",
      "2 | downsample | Sequential           | 36.1 K\n",
      "3 | upsample   | Sequential           | 36.1 K\n",
      "4 | encoder    | Sequential           | 1.2 M \n",
      "5 | agg        | AttentionAggregation | 73.2 K\n",
      "6 | decoder    | Sequential           | 1.7 M \n",
      "7 | smooth     | Sequential           | 79.6 K\n",
      "----------------------------------------------------\n",
      "3.1 M     Trainable params\n",
      "0         Non-trainable params\n",
      "3.1 M     Total params\n",
      "12.441    Total estimated model params size (MB)\n",
      "\u001b[32m[I 2021-03-19 14:43:03,123]\u001b[0m Trial 16 finished with value: 0.1 and parameters: {'planes': 20, 'downsampling_factor': 2, 'encoder_num_blocks': 10, 'decoder_num_blocks': 15, 'smooth_num_blocks': 10, 'agg_block': 'Attention', 'mode': 'softmax', 'num_heads': 4, 'dim_feedforward': 64, 'num_layers': 2}. Best is trial 0 with value: 0.1.\u001b[0m\n",
      "CometLogger will be initialized in online mode\n",
      "GPU available: True, used: True\n",
      "TPU available: None, using: 0 TPU cores\n"
     ]
    },
    {
     "name": "stdout",
     "output_type": "stream",
     "text": [
      "An exception occurred\n"
     ]
    },
    {
     "name": "stderr",
     "output_type": "stream",
     "text": [
      "COMET INFO: Experiment is live on comet.ml https://www.comet.ml/semjon/specshadocc/7250718c7b354b88bd09a2b7834afd01\n",
      "\n",
      "\n",
      "  | Name       | Type                 | Params\n",
      "----------------------------------------------------\n",
      "0 | input      | Conv2d               | 280   \n",
      "1 | output     | Conv2d               | 273   \n",
      "2 | downsample | Sequential           | 9.1 K \n",
      "3 | upsample   | Sequential           | 9.0 K \n",
      "4 | encoder    | Sequential           | 433 K \n",
      "5 | agg        | AttentionAggregation | 47.8 K\n",
      "6 | decoder    | Sequential           | 144 K \n",
      "7 | smooth     | Sequential           | 29.1 K\n",
      "----------------------------------------------------\n",
      "673 K     Trainable params\n",
      "0         Non-trainable params\n",
      "673 K     Total params\n",
      "2.693     Total estimated model params size (MB)\n",
      "\u001b[32m[I 2021-03-19 14:43:09,139]\u001b[0m Trial 17 finished with value: 0.1 and parameters: {'planes': 10, 'downsampling_factor': 2, 'encoder_num_blocks': 15, 'decoder_num_blocks': 5, 'smooth_num_blocks': 15, 'agg_block': 'Attention', 'mode': 'sum', 'num_heads': 8, 'dim_feedforward': 64, 'num_layers': 4}. Best is trial 0 with value: 0.1.\u001b[0m\n",
      "\u001b[32m[I 2021-03-19 14:43:09,162]\u001b[0m Trial 18 finished with value: 0.1 and parameters: {'planes': 25, 'downsampling_factor': 0, 'encoder_num_blocks': 5, 'decoder_num_blocks': 20, 'smooth_num_blocks': 5, 'agg_block': 'Attention', 'mode': 'sum', 'num_heads': 8, 'dim_feedforward': 64, 'num_layers': 3}. Best is trial 0 with value: 0.1.\u001b[0m\n",
      "CometLogger will be initialized in online mode\n",
      "GPU available: True, used: True\n",
      "TPU available: None, using: 0 TPU cores\n"
     ]
    },
    {
     "name": "stdout",
     "output_type": "stream",
     "text": [
      "An exception occurred\n",
      "An exception occurred\n"
     ]
    },
    {
     "name": "stderr",
     "output_type": "stream",
     "text": [
      "COMET INFO: Experiment is live on comet.ml https://www.comet.ml/semjon/specshadocc/85c6ecc62581429c8e7c58f30cc684f9\n",
      "\n",
      "\n",
      "  | Name       | Type                 | Params\n",
      "----------------------------------------------------\n",
      "0 | input      | Conv2d               | 700   \n",
      "1 | output     | Conv2d               | 678   \n",
      "2 | downsample | Sequential           | 56.4 K\n",
      "3 | upsample   | Sequential           | 56.3 K\n",
      "4 | encoder    | Sequential           | 1.8 M \n",
      "5 | agg        | AttentionAggregation | 133 K \n",
      "6 | decoder    | Sequential           | 2.7 M \n",
      "7 | smooth     | Sequential           | 124 K \n",
      "----------------------------------------------------\n",
      "4.9 M     Trainable params\n",
      "0         Non-trainable params\n",
      "4.9 M     Total params\n",
      "19.507    Total estimated model params size (MB)\n",
      "\u001b[32m[I 2021-03-19 14:43:15,106]\u001b[0m Trial 19 finished with value: 0.1 and parameters: {'planes': 25, 'downsampling_factor': 2, 'encoder_num_blocks': 10, 'decoder_num_blocks': 15, 'smooth_num_blocks': 10, 'agg_block': 'Attention', 'mode': 'softmax', 'num_heads': 4, 'dim_feedforward': 128, 'num_layers': 2}. Best is trial 0 with value: 0.1.\u001b[0m\n",
      "\u001b[32m[I 2021-03-19 14:43:15,137]\u001b[0m Trial 20 finished with value: 0.1 and parameters: {'planes': 15, 'downsampling_factor': 2, 'encoder_num_blocks': 15, 'decoder_num_blocks': 5, 'smooth_num_blocks': 15, 'agg_block': 'Attention', 'mode': 'sum', 'num_heads': 8, 'dim_feedforward': 64, 'num_layers': 4}. Best is trial 0 with value: 0.1.\u001b[0m\n",
      "\u001b[32m[I 2021-03-19 14:43:15,187]\u001b[0m Trial 21 finished with value: 0.1 and parameters: {'planes': 25, 'downsampling_factor': 0, 'encoder_num_blocks': 20, 'decoder_num_blocks': 5, 'smooth_num_blocks': 15, 'agg_block': 'Attention', 'mode': 'sum', 'num_heads': 8, 'dim_feedforward': 64, 'num_layers': 4}. Best is trial 0 with value: 0.1.\u001b[0m\n",
      "\u001b[32m[I 2021-03-19 14:43:15,211]\u001b[0m Trial 22 finished with value: 0.1 and parameters: {'planes': 25, 'downsampling_factor': 0, 'encoder_num_blocks': 5, 'decoder_num_blocks': 20, 'smooth_num_blocks': 10, 'agg_block': 'Attention', 'mode': 'softmax', 'num_heads': 8, 'dim_feedforward': 128, 'num_layers': 3}. Best is trial 0 with value: 0.1.\u001b[0m\n",
      "CometLogger will be initialized in online mode\n",
      "GPU available: True, used: True\n",
      "TPU available: None, using: 0 TPU cores\n"
     ]
    },
    {
     "name": "stdout",
     "output_type": "stream",
     "text": [
      "An exception occurred\n",
      "An exception occurred\n",
      "An exception occurred\n",
      "An exception occurred\n"
     ]
    },
    {
     "name": "stderr",
     "output_type": "stream",
     "text": [
      "COMET INFO: Experiment is live on comet.ml https://www.comet.ml/semjon/specshadocc/0a59b8ee62eb45f2967562487058fdf1\n",
      "\n",
      "\n",
      "  | Name       | Type                 | Params\n",
      "----------------------------------------------------\n",
      "0 | input      | Conv2d               | 560   \n",
      "1 | output     | Conv2d               | 543   \n",
      "2 | downsample | Sequential           | 36.1 K\n",
      "3 | upsample   | Sequential           | 36.1 K\n",
      "4 | encoder    | Sequential           | 1.7 M \n",
      "5 | agg        | AttentionAggregation | 187 K \n",
      "6 | decoder    | Sequential           | 1.2 M \n",
      "7 | smooth     | Sequential           | 115 K \n",
      "----------------------------------------------------\n",
      "3.3 M     Trainable params\n",
      "0         Non-trainable params\n",
      "3.3 M     Total params\n",
      "13.043    Total estimated model params size (MB)\n",
      "\u001b[32m[I 2021-03-19 14:43:21,811]\u001b[0m Trial 23 finished with value: 0.1 and parameters: {'planes': 20, 'downsampling_factor': 2, 'encoder_num_blocks': 15, 'decoder_num_blocks': 10, 'smooth_num_blocks': 15, 'agg_block': 'Attention', 'mode': 'softmax', 'num_heads': 8, 'dim_feedforward': 128, 'num_layers': 4}. Best is trial 0 with value: 0.1.\u001b[0m\n",
      "\u001b[32m[I 2021-03-19 14:43:21,837]\u001b[0m Trial 24 finished with value: 0.1 and parameters: {'planes': 15, 'downsampling_factor': 1, 'encoder_num_blocks': 20, 'decoder_num_blocks': 5, 'smooth_num_blocks': 20, 'agg_block': 'Attention', 'mode': 'sum', 'num_heads': 8, 'dim_feedforward': 64, 'num_layers': 4}. Best is trial 0 with value: 0.1.\u001b[0m\n",
      "\u001b[32m[I 2021-03-19 14:43:21,856]\u001b[0m Trial 25 finished with value: 0.1 and parameters: {'planes': 25, 'downsampling_factor': 0, 'encoder_num_blocks': 5, 'decoder_num_blocks': 20, 'smooth_num_blocks': 15, 'agg_block': 'Attention', 'mode': 'softmax', 'num_heads': 8, 'dim_feedforward': 128, 'num_layers': 3}. Best is trial 0 with value: 0.1.\u001b[0m\n",
      "CometLogger will be initialized in online mode\n",
      "GPU available: True, used: True\n",
      "TPU available: None, using: 0 TPU cores\n"
     ]
    },
    {
     "name": "stdout",
     "output_type": "stream",
     "text": [
      "An exception occurred\n",
      "An exception occurred\n",
      "An exception occurred\n"
     ]
    },
    {
     "name": "stderr",
     "output_type": "stream",
     "text": [
      "COMET INFO: Experiment is live on comet.ml https://www.comet.ml/semjon/specshadocc/e4420c4076ad4d649da46bfbb6204633\n",
      "\n",
      "\n",
      "  | Name       | Type                 | Params\n",
      "----------------------------------------------------\n",
      "0 | input      | Conv2d               | 560   \n",
      "1 | output     | Conv2d               | 543   \n",
      "2 | downsample | Sequential           | 7.2 K \n",
      "3 | upsample   | Sequential           | 7.2 K \n",
      "4 | encoder    | Sequential           | 433 K \n",
      "5 | agg        | AttentionAggregation | 51.4 K\n",
      "6 | decoder    | Sequential           | 288 K \n",
      "7 | smooth     | Sequential           | 79.6 K\n",
      "----------------------------------------------------\n",
      "868 K     Trainable params\n",
      "0         Non-trainable params\n",
      "868 K     Total params\n",
      "3.474     Total estimated model params size (MB)\n",
      "\u001b[32m[I 2021-03-19 14:43:28,247]\u001b[0m Trial 26 finished with value: 0.1 and parameters: {'planes': 20, 'downsampling_factor': 1, 'encoder_num_blocks': 15, 'decoder_num_blocks': 10, 'smooth_num_blocks': 10, 'agg_block': 'Attention', 'mode': 'softmax', 'num_heads': 8, 'dim_feedforward': 128, 'num_layers': 3}. Best is trial 0 with value: 0.1.\u001b[0m\n",
      "CometLogger will be initialized in online mode\n",
      "GPU available: True, used: True\n",
      "TPU available: None, using: 0 TPU cores\n"
     ]
    },
    {
     "name": "stdout",
     "output_type": "stream",
     "text": [
      "An exception occurred\n"
     ]
    },
    {
     "name": "stderr",
     "output_type": "stream",
     "text": [
      "COMET INFO: Experiment is live on comet.ml https://www.comet.ml/semjon/specshadocc/98fd961a2ea34ce594733dfe38a709bd\n",
      "\n",
      "\n",
      "  | Name       | Type                 | Params\n",
      "----------------------------------------------------\n",
      "0 | input      | Conv2d               | 560   \n",
      "1 | output     | Conv2d               | 543   \n",
      "2 | downsample | Sequential           | 7.2 K \n",
      "3 | upsample   | Sequential           | 7.2 K \n",
      "4 | encoder    | Sequential           | 577 K \n",
      "5 | agg        | AttentionAggregation | 68.5 K\n",
      "6 | decoder    | Sequential           | 144 K \n",
      "7 | smooth     | Sequential           | 152 K \n",
      "----------------------------------------------------\n",
      "958 K     Trainable params\n",
      "0         Non-trainable params\n",
      "958 K     Total params\n",
      "3.832     Total estimated model params size (MB)\n",
      "\u001b[32m[I 2021-03-19 14:43:35,181]\u001b[0m Trial 27 finished with value: 0.1 and parameters: {'planes': 20, 'downsampling_factor': 1, 'encoder_num_blocks': 20, 'decoder_num_blocks': 5, 'smooth_num_blocks': 20, 'agg_block': 'Attention', 'mode': 'softmax', 'num_heads': 8, 'dim_feedforward': 128, 'num_layers': 4}. Best is trial 0 with value: 0.1.\u001b[0m\n",
      "\u001b[32m[I 2021-03-19 14:43:35,203]\u001b[0m Trial 28 finished with value: 0.1 and parameters: {'planes': 15, 'downsampling_factor': 0, 'encoder_num_blocks': 5, 'decoder_num_blocks': 20, 'smooth_num_blocks': 20, 'agg_block': 'Attention', 'mode': 'softmax', 'num_heads': 8, 'dim_feedforward': 128, 'num_layers': 3}. Best is trial 0 with value: 0.1.\u001b[0m\n",
      "\u001b[32m[I 2021-03-19 14:43:35,229]\u001b[0m Trial 29 finished with value: 0.1 and parameters: {'planes': 30, 'downsampling_factor': 1, 'encoder_num_blocks': 10, 'decoder_num_blocks': 10, 'smooth_num_blocks': 15, 'agg_block': 'Attention', 'mode': 'softmax', 'num_heads': 8, 'dim_feedforward': 128, 'num_layers': 3}. Best is trial 0 with value: 0.1.\u001b[0m\n",
      "CometLogger will be initialized in online mode\n",
      "GPU available: True, used: True\n",
      "TPU available: None, using: 0 TPU cores\n"
     ]
    },
    {
     "name": "stdout",
     "output_type": "stream",
     "text": [
      "An exception occurred\n",
      "An exception occurred\n",
      "An exception occurred\n"
     ]
    },
    {
     "name": "stderr",
     "output_type": "stream",
     "text": [
      "COMET INFO: Experiment is live on comet.ml https://www.comet.ml/semjon/specshadocc/6b155c82bb5140449997b908520678ce\n",
      "\n",
      "\n",
      "  | Name       | Type                 | Params\n",
      "----------------------------------------------------\n",
      "0 | input      | Conv2d               | 560   \n",
      "1 | output     | Conv2d               | 543   \n",
      "2 | downsample | Sequential           | 7.2 K \n",
      "3 | upsample   | Sequential           | 7.2 K \n",
      "4 | encoder    | Sequential           | 577 K \n",
      "5 | agg        | AttentionAggregation | 51.4 K\n",
      "6 | decoder    | Sequential           | 144 K \n",
      "7 | smooth     | Sequential           | 79.6 K\n",
      "----------------------------------------------------\n",
      "868 K     Trainable params\n",
      "0         Non-trainable params\n",
      "868 K     Total params\n",
      "3.474     Total estimated model params size (MB)\n",
      "\u001b[32m[I 2021-03-19 14:43:41,953]\u001b[0m Trial 30 finished with value: 0.1 and parameters: {'planes': 20, 'downsampling_factor': 1, 'encoder_num_blocks': 20, 'decoder_num_blocks': 5, 'smooth_num_blocks': 10, 'agg_block': 'Attention', 'mode': 'softmax', 'num_heads': 8, 'dim_feedforward': 128, 'num_layers': 3}. Best is trial 0 with value: 0.1.\u001b[0m\n",
      "CometLogger will be initialized in online mode\n",
      "GPU available: True, used: True\n",
      "TPU available: None, using: 0 TPU cores\n"
     ]
    },
    {
     "name": "stdout",
     "output_type": "stream",
     "text": [
      "An exception occurred\n"
     ]
    },
    {
     "name": "stderr",
     "output_type": "stream",
     "text": [
      "COMET INFO: Experiment is live on comet.ml https://www.comet.ml/semjon/specshadocc/d1e1a722bc2048c6ae62409335427b51\n",
      "\n",
      "\n",
      "  | Name       | Type                 | Params\n",
      "----------------------------------------------------\n",
      "0 | input      | Conv2d               | 560   \n",
      "1 | output     | Conv2d               | 543   \n",
      "2 | downsample | Sequential           | 7.2 K \n",
      "3 | upsample   | Sequential           | 7.2 K \n",
      "4 | encoder    | Sequential           | 577 K \n",
      "5 | agg        | AttentionAggregation | 51.4 K\n",
      "6 | decoder    | Sequential           | 288 K \n",
      "7 | smooth     | Sequential           | 152 K \n",
      "----------------------------------------------------\n",
      "1.1 M     Trainable params\n",
      "0         Non-trainable params\n",
      "1.1 M     Total params\n",
      "4.342     Total estimated model params size (MB)\n",
      "\u001b[32m[I 2021-03-19 14:43:48,738]\u001b[0m Trial 31 finished with value: 0.1 and parameters: {'planes': 20, 'downsampling_factor': 1, 'encoder_num_blocks': 20, 'decoder_num_blocks': 10, 'smooth_num_blocks': 20, 'agg_block': 'Attention', 'mode': 'softmax', 'num_heads': 8, 'dim_feedforward': 128, 'num_layers': 3}. Best is trial 0 with value: 0.1.\u001b[0m\n",
      "\u001b[32m[I 2021-03-19 14:43:48,765]\u001b[0m Trial 32 finished with value: 0.1 and parameters: {'planes': 30, 'downsampling_factor': 1, 'encoder_num_blocks': 10, 'decoder_num_blocks': 15, 'smooth_num_blocks': 20, 'agg_block': 'Attention', 'mode': 'softmax', 'num_heads': 8, 'dim_feedforward': 128, 'num_layers': 3}. Best is trial 0 with value: 0.1.\u001b[0m\n",
      "\u001b[32m[I 2021-03-19 14:43:48,787]\u001b[0m Trial 33 finished with value: 0.1 and parameters: {'planes': 15, 'downsampling_factor': 0, 'encoder_num_blocks': 5, 'decoder_num_blocks': 5, 'smooth_num_blocks': 15, 'agg_block': 'Attention', 'mode': 'softmax', 'num_heads': 8, 'dim_feedforward': 128, 'num_layers': 3}. Best is trial 0 with value: 0.1.\u001b[0m\n",
      "\u001b[32m[I 2021-03-19 14:43:48,819]\u001b[0m Trial 34 finished with value: 0.1 and parameters: {'planes': 30, 'downsampling_factor': 1, 'encoder_num_blocks': 20, 'decoder_num_blocks': 10, 'smooth_num_blocks': 20, 'agg_block': 'Attention', 'mode': 'softmax', 'num_heads': 8, 'dim_feedforward': 128, 'num_layers': 3}. Best is trial 0 with value: 0.1.\u001b[0m\n",
      "CometLogger will be initialized in online mode\n"
     ]
    },
    {
     "name": "stdout",
     "output_type": "stream",
     "text": [
      "An exception occurred\n",
      "An exception occurred\n",
      "An exception occurred\n",
      "An exception occurred\n"
     ]
    },
    {
     "name": "stderr",
     "output_type": "stream",
     "text": [
      "GPU available: True, used: True\n",
      "TPU available: None, using: 0 TPU cores\n",
      "COMET INFO: Experiment is live on comet.ml https://www.comet.ml/semjon/specshadocc/c0f977070ebe460299806d010d35573e\n",
      "\n",
      "\n",
      "  | Name       | Type                 | Params\n",
      "----------------------------------------------------\n",
      "0 | input      | Conv2d               | 700   \n",
      "1 | output     | Conv2d               | 678   \n",
      "2 | downsample | Sequential           | 236 K \n",
      "3 | upsample   | Sequential           | 236 K \n",
      "4 | encoder    | Sequential           | 10.8 M\n",
      "5 | agg        | AttentionAggregation | 749 K \n",
      "6 | decoder    | Sequential           | 3.6 M \n",
      "7 | smooth     | Sequential           | 180 K \n",
      "----------------------------------------------------\n",
      "15.8 M    Trainable params\n",
      "0         Non-trainable params\n",
      "15.8 M    Total params\n",
      "63.252    Total estimated model params size (MB)\n",
      "\u001b[32m[I 2021-03-19 14:43:55,130]\u001b[0m Trial 35 finished with value: 0.1 and parameters: {'planes': 25, 'downsampling_factor': 3, 'encoder_num_blocks': 15, 'decoder_num_blocks': 5, 'smooth_num_blocks': 15, 'agg_block': 'Attention', 'mode': 'sum', 'num_heads': 4, 'dim_feedforward': 64, 'num_layers': 4}. Best is trial 0 with value: 0.1.\u001b[0m\n",
      "\u001b[32m[I 2021-03-19 14:43:55,154]\u001b[0m Trial 36 finished with value: 0.1 and parameters: {'planes': 25, 'downsampling_factor': 0, 'encoder_num_blocks': 5, 'decoder_num_blocks': 5, 'smooth_num_blocks': 15, 'agg_block': 'Attention', 'mode': 'mean', 'num_heads': 8, 'dim_feedforward': 64, 'num_layers': 4}. Best is trial 0 with value: 0.1.\u001b[0m\n",
      "\u001b[32m[I 2021-03-19 14:43:55,178]\u001b[0m Trial 37 finished with value: 0.1 and parameters: {'planes': 25, 'downsampling_factor': 0, 'encoder_num_blocks': 15, 'decoder_num_blocks': 5, 'smooth_num_blocks': 15, 'agg_block': 'Attention', 'mode': 'sum', 'num_heads': 8, 'dim_feedforward': 64, 'num_layers': 4}. Best is trial 0 with value: 0.1.\u001b[0m\n",
      "\u001b[32m[I 2021-03-19 14:43:55,199]\u001b[0m Trial 38 finished with value: 0.1 and parameters: {'planes': 25, 'downsampling_factor': 0, 'encoder_num_blocks': 5, 'decoder_num_blocks': 10, 'smooth_num_blocks': 10, 'agg_block': 'Attention', 'mode': 'mean', 'num_heads': 8, 'dim_feedforward': 128, 'num_layers': 4}. Best is trial 0 with value: 0.1.\u001b[0m\n",
      "CometLogger will be initialized in online mode\n"
     ]
    },
    {
     "name": "stdout",
     "output_type": "stream",
     "text": [
      "An exception occurred\n",
      "An exception occurred\n",
      "An exception occurred\n",
      "An exception occurred\n"
     ]
    },
    {
     "name": "stderr",
     "output_type": "stream",
     "text": [
      "GPU available: True, used: True\n",
      "TPU available: None, using: 0 TPU cores\n",
      "COMET INFO: Experiment is live on comet.ml https://www.comet.ml/semjon/specshadocc/a310367b3325481bb6eaf6b5d5044217\n",
      "\n",
      "\n",
      "  | Name       | Type                 | Params\n",
      "----------------------------------------------------\n",
      "0 | input      | Conv2d               | 700   \n",
      "1 | output     | Conv2d               | 678   \n",
      "2 | downsample | Sequential           | 236 K \n",
      "3 | upsample   | Sequential           | 236 K \n",
      "4 | encoder    | Sequential           | 10.8 M\n",
      "5 | agg        | AttentionAggregation | 852 K \n",
      "6 | decoder    | Sequential           | 10.8 M\n",
      "7 | smooth     | Sequential           | 180 K \n",
      "----------------------------------------------------\n",
      "23.1 M    Trainable params\n",
      "0         Non-trainable params\n",
      "23.1 M    Total params\n",
      "92.479    Total estimated model params size (MB)\n",
      "\u001b[32m[I 2021-03-19 14:44:01,545]\u001b[0m Trial 39 finished with value: 0.1 and parameters: {'planes': 25, 'downsampling_factor': 3, 'encoder_num_blocks': 15, 'decoder_num_blocks': 15, 'smooth_num_blocks': 15, 'agg_block': 'Attention', 'mode': 'mean', 'num_heads': 8, 'dim_feedforward': 128, 'num_layers': 4}. Best is trial 0 with value: 0.1.\u001b[0m\n",
      "\u001b[32m[I 2021-03-19 14:44:01,576]\u001b[0m Trial 40 finished with value: 0.1 and parameters: {'planes': 15, 'downsampling_factor': 2, 'encoder_num_blocks': 20, 'decoder_num_blocks': 20, 'smooth_num_blocks': 5, 'agg_block': 'Attention', 'mode': 'sum', 'num_heads': 8, 'dim_feedforward': 128, 'num_layers': 4}. Best is trial 0 with value: 0.1.\u001b[0m\n",
      "\u001b[32m[I 2021-03-19 14:44:01,597]\u001b[0m Trial 41 finished with value: 0.1 and parameters: {'planes': 20, 'downsampling_factor': 0, 'encoder_num_blocks': 5, 'decoder_num_blocks': 20, 'smooth_num_blocks': 20, 'agg_block': 'Attention', 'mode': 'softmax', 'num_heads': 8, 'dim_feedforward': 128, 'num_layers': 3}. Best is trial 0 with value: 0.1.\u001b[0m\n",
      "CometLogger will be initialized in online mode\n",
      "GPU available: True, used: True\n",
      "TPU available: None, using: 0 TPU cores\n"
     ]
    },
    {
     "name": "stdout",
     "output_type": "stream",
     "text": [
      "An exception occurred\n",
      "An exception occurred\n",
      "An exception occurred\n"
     ]
    },
    {
     "name": "stderr",
     "output_type": "stream",
     "text": [
      "COMET INFO: Experiment is live on comet.ml https://www.comet.ml/semjon/specshadocc/6e5c062b8de2403984930104321cc542\n",
      "\n",
      "\n",
      "  | Name       | Type                 | Params\n",
      "----------------------------------------------------\n",
      "0 | input      | Conv2d               | 560   \n",
      "1 | output     | Conv2d               | 543   \n",
      "2 | downsample | Sequential           | 7.2 K \n",
      "3 | upsample   | Sequential           | 7.2 K \n",
      "4 | encoder    | Sequential           | 433 K \n",
      "5 | agg        | AttentionAggregation | 51.4 K\n",
      "6 | decoder    | Sequential           | 288 K \n",
      "7 | smooth     | Sequential           | 115 K \n",
      "----------------------------------------------------\n",
      "904 K     Trainable params\n",
      "0         Non-trainable params\n",
      "904 K     Total params\n",
      "3.619     Total estimated model params size (MB)\n",
      "\u001b[32m[I 2021-03-19 14:44:08,138]\u001b[0m Trial 42 finished with value: 0.1 and parameters: {'planes': 20, 'downsampling_factor': 1, 'encoder_num_blocks': 15, 'decoder_num_blocks': 10, 'smooth_num_blocks': 15, 'agg_block': 'Attention', 'mode': 'softmax', 'num_heads': 8, 'dim_feedforward': 128, 'num_layers': 3}. Best is trial 0 with value: 0.1.\u001b[0m\n",
      "CometLogger will be initialized in online mode\n",
      "GPU available: True, used: True\n",
      "TPU available: None, using: 0 TPU cores\n"
     ]
    },
    {
     "name": "stdout",
     "output_type": "stream",
     "text": [
      "An exception occurred\n"
     ]
    },
    {
     "name": "stderr",
     "output_type": "stream",
     "text": [
      "COMET INFO: Experiment is live on comet.ml https://www.comet.ml/semjon/specshadocc/b680139c41c546d69f79ffa29be9549e\n",
      "\n",
      "\n",
      "  | Name       | Type                 | Params\n",
      "----------------------------------------------------\n",
      "0 | input      | Conv2d               | 560   \n",
      "1 | output     | Conv2d               | 543   \n",
      "2 | downsample | Sequential           | 7.2 K \n",
      "3 | upsample   | Sequential           | 7.2 K \n",
      "4 | encoder    | Sequential           | 433 K \n",
      "5 | agg        | AttentionAggregation | 68.5 K\n",
      "6 | decoder    | Sequential           | 288 K \n",
      "7 | smooth     | Sequential           | 79.6 K\n",
      "----------------------------------------------------\n",
      "885 K     Trainable params\n",
      "0         Non-trainable params\n",
      "885 K     Total params\n",
      "3.543     Total estimated model params size (MB)\n",
      "\u001b[32m[I 2021-03-19 14:44:14,998]\u001b[0m Trial 43 finished with value: 0.1 and parameters: {'planes': 20, 'downsampling_factor': 1, 'encoder_num_blocks': 15, 'decoder_num_blocks': 10, 'smooth_num_blocks': 10, 'agg_block': 'Attention', 'mode': 'softmax', 'num_heads': 8, 'dim_feedforward': 128, 'num_layers': 4}. Best is trial 0 with value: 0.1.\u001b[0m\n",
      "\u001b[32m[I 2021-03-19 14:44:15,026]\u001b[0m Trial 44 finished with value: 0.1 and parameters: {'planes': 15, 'downsampling_factor': 1, 'encoder_num_blocks': 20, 'decoder_num_blocks': 5, 'smooth_num_blocks': 20, 'agg_block': 'Attention', 'mode': 'softmax', 'num_heads': 8, 'dim_feedforward': 128, 'num_layers': 3}. Best is trial 0 with value: 0.1.\u001b[0m\n",
      "CometLogger will be initialized in online mode\n",
      "GPU available: True, used: True\n",
      "TPU available: None, using: 0 TPU cores\n"
     ]
    },
    {
     "name": "stdout",
     "output_type": "stream",
     "text": [
      "An exception occurred\n",
      "An exception occurred\n"
     ]
    },
    {
     "name": "stderr",
     "output_type": "stream",
     "text": [
      "COMET INFO: Experiment is live on comet.ml https://www.comet.ml/semjon/specshadocc/2ea5b84fe800420cb3b1efb3025347da\n",
      "\n",
      "\n",
      "  | Name       | Type                 | Params\n",
      "----------------------------------------------------\n",
      "0 | input      | Conv2d               | 560   \n",
      "1 | output     | Conv2d               | 543   \n",
      "2 | downsample | Sequential           | 7.2 K \n",
      "3 | upsample   | Sequential           | 7.2 K \n",
      "4 | encoder    | Sequential           | 577 K \n",
      "5 | agg        | AttentionAggregation | 51.4 K\n",
      "6 | decoder    | Sequential           | 144 K \n",
      "7 | smooth     | Sequential           | 152 K \n",
      "----------------------------------------------------\n",
      "940 K     Trainable params\n",
      "0         Non-trainable params\n",
      "940 K     Total params\n",
      "3.764     Total estimated model params size (MB)\n",
      "\u001b[32m[I 2021-03-19 14:44:21,730]\u001b[0m Trial 45 finished with value: 0.1 and parameters: {'planes': 20, 'downsampling_factor': 1, 'encoder_num_blocks': 20, 'decoder_num_blocks': 5, 'smooth_num_blocks': 20, 'agg_block': 'Attention', 'mode': 'softmax', 'num_heads': 8, 'dim_feedforward': 128, 'num_layers': 3}. Best is trial 0 with value: 0.1.\u001b[0m\n",
      "\u001b[32m[I 2021-03-19 14:44:21,752]\u001b[0m Trial 46 finished with value: 0.1 and parameters: {'planes': 15, 'downsampling_factor': 0, 'encoder_num_blocks': 5, 'decoder_num_blocks': 20, 'smooth_num_blocks': 20, 'agg_block': 'Attention', 'mode': 'softmax', 'num_heads': 8, 'dim_feedforward': 128, 'num_layers': 3}. Best is trial 0 with value: 0.1.\u001b[0m\n",
      "\u001b[32m[I 2021-03-19 14:44:21,774]\u001b[0m Trial 47 finished with value: 0.1 and parameters: {'planes': 10, 'downsampling_factor': 1, 'encoder_num_blocks': 5, 'decoder_num_blocks': 20, 'smooth_num_blocks': 5, 'agg_block': 'Attention', 'mode': 'softmax', 'num_heads': 8, 'dim_feedforward': 128, 'num_layers': 3}. Best is trial 0 with value: 0.1.\u001b[0m\n",
      "\u001b[32m[I 2021-03-19 14:44:21,800]\u001b[0m Trial 48 finished with value: 0.1 and parameters: {'planes': 30, 'downsampling_factor': 1, 'encoder_num_blocks': 10, 'decoder_num_blocks': 10, 'smooth_num_blocks': 20, 'agg_block': 'Attention', 'mode': 'softmax', 'num_heads': 8, 'dim_feedforward': 128, 'num_layers': 3}. Best is trial 0 with value: 0.1.\u001b[0m\n",
      "\u001b[32m[I 2021-03-19 14:44:21,824]\u001b[0m Trial 49 finished with value: 0.1 and parameters: {'planes': 10, 'downsampling_factor': 1, 'encoder_num_blocks': 10, 'decoder_num_blocks': 10, 'smooth_num_blocks': 20, 'agg_block': 'Attention', 'mode': 'softmax', 'num_heads': 8, 'dim_feedforward': 128, 'num_layers': 3}. Best is trial 0 with value: 0.1.\u001b[0m\n",
      "\u001b[32m[I 2021-03-19 14:44:21,848]\u001b[0m Trial 50 finished with value: 0.1 and parameters: {'planes': 15, 'downsampling_factor': 1, 'encoder_num_blocks': 10, 'decoder_num_blocks': 15, 'smooth_num_blocks': 10, 'agg_block': 'Attention', 'mode': 'softmax', 'num_heads': 8, 'dim_feedforward': 128, 'num_layers': 2}. Best is trial 0 with value: 0.1.\u001b[0m\n",
      "CometLogger will be initialized in online mode\n",
      "GPU available: True, used: True\n",
      "TPU available: None, using: 0 TPU cores\n"
     ]
    },
    {
     "name": "stdout",
     "output_type": "stream",
     "text": [
      "An exception occurred\n",
      "An exception occurred\n",
      "An exception occurred\n",
      "An exception occurred\n",
      "An exception occurred\n",
      "An exception occurred\n"
     ]
    },
    {
     "name": "stderr",
     "output_type": "stream",
     "text": [
      "COMET INFO: Experiment is live on comet.ml https://www.comet.ml/semjon/specshadocc/13045e2b39274d8ebb90db719e784932\n",
      "\n",
      "\n",
      "  | Name       | Type                 | Params\n",
      "----------------------------------------------------\n",
      "0 | input      | Conv2d               | 560   \n",
      "1 | output     | Conv2d               | 543   \n",
      "2 | downsample | Sequential           | 7.2 K \n",
      "3 | upsample   | Sequential           | 7.2 K \n",
      "4 | encoder    | Sequential           | 577 K \n",
      "5 | agg        | AttentionAggregation | 51.4 K\n",
      "6 | decoder    | Sequential           | 288 K \n",
      "7 | smooth     | Sequential           | 152 K \n",
      "----------------------------------------------------\n",
      "1.1 M     Trainable params\n",
      "0         Non-trainable params\n",
      "1.1 M     Total params\n",
      "4.342     Total estimated model params size (MB)\n",
      "\u001b[32m[I 2021-03-19 14:44:28,524]\u001b[0m Trial 51 finished with value: 0.1 and parameters: {'planes': 20, 'downsampling_factor': 1, 'encoder_num_blocks': 20, 'decoder_num_blocks': 10, 'smooth_num_blocks': 20, 'agg_block': 'Attention', 'mode': 'softmax', 'num_heads': 8, 'dim_feedforward': 128, 'num_layers': 3}. Best is trial 0 with value: 0.1.\u001b[0m\n",
      "\u001b[32m[I 2021-03-19 14:44:28,551]\u001b[0m Trial 52 finished with value: 0.1 and parameters: {'planes': 30, 'downsampling_factor': 1, 'encoder_num_blocks': 10, 'decoder_num_blocks': 15, 'smooth_num_blocks': 20, 'agg_block': 'Attention', 'mode': 'softmax', 'num_heads': 8, 'dim_feedforward': 128, 'num_layers': 3}. Best is trial 0 with value: 0.1.\u001b[0m\n",
      "\u001b[32m[I 2021-03-19 14:44:28,578]\u001b[0m Trial 53 finished with value: 0.1 and parameters: {'planes': 30, 'downsampling_factor': 1, 'encoder_num_blocks': 10, 'decoder_num_blocks': 15, 'smooth_num_blocks': 20, 'agg_block': 'Attention', 'mode': 'softmax', 'num_heads': 8, 'dim_feedforward': 128, 'num_layers': 3}. Best is trial 0 with value: 0.1.\u001b[0m\n",
      "\u001b[32m[I 2021-03-19 14:44:28,604]\u001b[0m Trial 54 finished with value: 0.1 and parameters: {'planes': 30, 'downsampling_factor': 1, 'encoder_num_blocks': 10, 'decoder_num_blocks': 10, 'smooth_num_blocks': 15, 'agg_block': 'Attention', 'mode': 'softmax', 'num_heads': 8, 'dim_feedforward': 128, 'num_layers': 3}. Best is trial 0 with value: 0.1.\u001b[0m\n",
      "\u001b[32m[I 2021-03-19 14:44:28,629]\u001b[0m Trial 55 finished with value: 0.1 and parameters: {'planes': 30, 'downsampling_factor': 1, 'encoder_num_blocks': 10, 'decoder_num_blocks': 15, 'smooth_num_blocks': 15, 'agg_block': 'Attention', 'mode': 'softmax', 'num_heads': 8, 'dim_feedforward': 128, 'num_layers': 3}. Best is trial 0 with value: 0.1.\u001b[0m\n",
      "\u001b[32m[I 2021-03-19 14:44:28,656]\u001b[0m Trial 56 finished with value: 0.1 and parameters: {'planes': 15, 'downsampling_factor': 1, 'encoder_num_blocks': 20, 'decoder_num_blocks': 10, 'smooth_num_blocks': 20, 'agg_block': 'Attention', 'mode': 'softmax', 'num_heads': 8, 'dim_feedforward': 128, 'num_layers': 3}. Best is trial 0 with value: 0.1.\u001b[0m\n",
      "\u001b[32m[I 2021-03-19 14:44:28,680]\u001b[0m Trial 57 finished with value: 0.1 and parameters: {'planes': 10, 'downsampling_factor': 1, 'encoder_num_blocks': 20, 'decoder_num_blocks': 5, 'smooth_num_blocks': 5, 'agg_block': 'Attention', 'mode': 'softmax', 'num_heads': 8, 'dim_feedforward': 128, 'num_layers': 3}. Best is trial 0 with value: 0.1.\u001b[0m\n"
     ]
    },
    {
     "name": "stdout",
     "output_type": "stream",
     "text": [
      "An exception occurred\n",
      "An exception occurred\n",
      "An exception occurred\n",
      "An exception occurred\n",
      "An exception occurred\n",
      "An exception occurred\n",
      "An exception occurred\n"
     ]
    },
    {
     "name": "stderr",
     "output_type": "stream",
     "text": [
      "CometLogger will be initialized in online mode\n",
      "GPU available: True, used: True\n",
      "TPU available: None, using: 0 TPU cores\n",
      "COMET INFO: Experiment is live on comet.ml https://www.comet.ml/semjon/specshadocc/1a7879fea5f24a3e8f1482ab9d79e732\n",
      "\n",
      "\n",
      "  | Name       | Type                 | Params\n",
      "----------------------------------------------------\n",
      "0 | input      | Conv2d               | 840   \n",
      "1 | output     | Conv2d               | 813   \n",
      "2 | downsample | Sequential           | 340 K \n",
      "3 | upsample   | Sequential           | 340 K \n",
      "4 | encoder    | Sequential           | 15.6 M\n",
      "5 | agg        | AttentionAggregation | 526 K \n",
      "6 | decoder    | Sequential           | 5.2 M \n",
      "7 | smooth     | Sequential           | 341 K \n",
      "----------------------------------------------------\n",
      "22.3 M    Trainable params\n",
      "0         Non-trainable params\n",
      "22.3 M    Total params\n",
      "89.186    Total estimated model params size (MB)\n",
      "\u001b[32m[I 2021-03-19 14:44:35,087]\u001b[0m Trial 58 finished with value: 0.1 and parameters: {'planes': 30, 'downsampling_factor': 3, 'encoder_num_blocks': 15, 'decoder_num_blocks': 5, 'smooth_num_blocks': 20, 'agg_block': 'Attention', 'mode': 'sum', 'num_heads': 4, 'dim_feedforward': 64, 'num_layers': 2}. Best is trial 0 with value: 0.1.\u001b[0m\n",
      "CometLogger will be initialized in online mode\n",
      "GPU available: True, used: True\n",
      "TPU available: None, using: 0 TPU cores\n"
     ]
    },
    {
     "name": "stdout",
     "output_type": "stream",
     "text": [
      "An exception occurred\n"
     ]
    },
    {
     "name": "stderr",
     "output_type": "stream",
     "text": [
      "COMET INFO: Experiment is live on comet.ml https://www.comet.ml/semjon/specshadocc/bebcbc0e152a42eda2cc08ebe6b0e28a\n",
      "\n",
      "\n",
      "  | Name       | Type                 | Params\n",
      "----------------------------------------------------\n",
      "0 | input      | Conv2d               | 840   \n",
      "1 | output     | Conv2d               | 813   \n",
      "2 | downsample | Sequential           | 81.2 K\n",
      "3 | upsample   | Sequential           | 81.1 K\n",
      "4 | encoder    | Sequential           | 1.3 M \n",
      "5 | agg        | AttentionAggregation | 222 K \n",
      "6 | decoder    | Sequential           | 3.9 M \n",
      "7 | smooth     | Sequential           | 341 K \n",
      "----------------------------------------------------\n",
      "5.9 M     Trainable params\n",
      "0         Non-trainable params\n",
      "5.9 M     Total params\n",
      "23.666    Total estimated model params size (MB)\n",
      "\u001b[32m[I 2021-03-19 14:44:41,397]\u001b[0m Trial 59 finished with value: 0.1 and parameters: {'planes': 30, 'downsampling_factor': 2, 'encoder_num_blocks': 5, 'decoder_num_blocks': 15, 'smooth_num_blocks': 20, 'agg_block': 'Attention', 'mode': 'sum', 'num_heads': 4, 'dim_feedforward': 64, 'num_layers': 3}. Best is trial 0 with value: 0.1.\u001b[0m\n",
      "\u001b[32m[I 2021-03-19 14:44:41,419]\u001b[0m Trial 60 finished with value: 0.1 and parameters: {'planes': 25, 'downsampling_factor': 0, 'encoder_num_blocks': 5, 'decoder_num_blocks': 5, 'smooth_num_blocks': 15, 'agg_block': 'Attention', 'mode': 'mean', 'num_heads': 4, 'dim_feedforward': 64, 'num_layers': 4}. Best is trial 0 with value: 0.1.\u001b[0m\n",
      "\u001b[32m[I 2021-03-19 14:44:41,441]\u001b[0m Trial 61 finished with value: 0.1 and parameters: {'planes': 25, 'downsampling_factor': 0, 'encoder_num_blocks': 5, 'decoder_num_blocks': 5, 'smooth_num_blocks': 15, 'agg_block': 'Attention', 'mode': 'mean', 'num_heads': 8, 'dim_feedforward': 64, 'num_layers': 4}. Best is trial 0 with value: 0.1.\u001b[0m\n",
      "\u001b[32m[I 2021-03-19 14:44:41,464]\u001b[0m Trial 62 finished with value: 0.1 and parameters: {'planes': 25, 'downsampling_factor': 0, 'encoder_num_blocks': 5, 'decoder_num_blocks': 5, 'smooth_num_blocks': 15, 'agg_block': 'Attention', 'mode': 'mean', 'num_heads': 8, 'dim_feedforward': 64, 'num_layers': 4}. Best is trial 0 with value: 0.1.\u001b[0m\n",
      "\u001b[32m[I 2021-03-19 14:44:41,486]\u001b[0m Trial 63 finished with value: 0.1 and parameters: {'planes': 25, 'downsampling_factor': 0, 'encoder_num_blocks': 5, 'decoder_num_blocks': 5, 'smooth_num_blocks': 15, 'agg_block': 'Attention', 'mode': 'mean', 'num_heads': 4, 'dim_feedforward': 64, 'num_layers': 4}. Best is trial 0 with value: 0.1.\u001b[0m\n"
     ]
    },
    {
     "name": "stdout",
     "output_type": "stream",
     "text": [
      "An exception occurred\n",
      "An exception occurred\n",
      "An exception occurred\n",
      "An exception occurred\n",
      "An exception occurred\n"
     ]
    },
    {
     "name": "stderr",
     "output_type": "stream",
     "text": [
      "CometLogger will be initialized in online mode\n",
      "GPU available: True, used: True\n",
      "TPU available: None, using: 0 TPU cores\n",
      "COMET INFO: Experiment is live on comet.ml https://www.comet.ml/semjon/specshadocc/8239c943f1264e1da327a152f58c957b\n",
      "\n",
      "\n",
      "  | Name       | Type                 | Params\n",
      "----------------------------------------------------\n",
      "0 | input      | Conv2d               | 700   \n",
      "1 | output     | Conv2d               | 678   \n",
      "2 | downsample | Sequential           | 236 K \n",
      "3 | upsample   | Sequential           | 236 K \n",
      "4 | encoder    | Sequential           | 10.8 M\n",
      "5 | agg        | AttentionAggregation | 749 K \n",
      "6 | decoder    | Sequential           | 7.2 M \n",
      "7 | smooth     | Sequential           | 180 K \n",
      "----------------------------------------------------\n",
      "19.4 M    Trainable params\n",
      "0         Non-trainable params\n",
      "19.4 M    Total params\n",
      "77.660    Total estimated model params size (MB)\n",
      "\u001b[32m[I 2021-03-19 14:44:47,774]\u001b[0m Trial 64 finished with value: 0.1 and parameters: {'planes': 25, 'downsampling_factor': 3, 'encoder_num_blocks': 15, 'decoder_num_blocks': 10, 'smooth_num_blocks': 15, 'agg_block': 'Attention', 'mode': 'mean', 'num_heads': 8, 'dim_feedforward': 64, 'num_layers': 4}. Best is trial 0 with value: 0.1.\u001b[0m\n",
      "CometLogger will be initialized in online mode\n",
      "GPU available: True, used: True\n",
      "TPU available: None, using: 0 TPU cores\n"
     ]
    },
    {
     "name": "stdout",
     "output_type": "stream",
     "text": [
      "An exception occurred\n"
     ]
    },
    {
     "name": "stderr",
     "output_type": "stream",
     "text": [
      "COMET INFO: Experiment is live on comet.ml https://www.comet.ml/semjon/specshadocc/47a32ccaf72a4a7699e991f88e47b29b\n",
      "\n",
      "\n",
      "  | Name       | Type                 | Params\n",
      "----------------------------------------------------\n",
      "0 | input      | Conv2d               | 700   \n",
      "1 | output     | Conv2d               | 678   \n",
      "2 | downsample | Sequential           | 236 K \n",
      "3 | upsample   | Sequential           | 236 K \n",
      "4 | encoder    | Sequential           | 10.8 M\n",
      "5 | agg        | AttentionAggregation | 749 K \n",
      "6 | decoder    | Sequential           | 3.6 M \n",
      "7 | smooth     | Sequential           | 180 K \n",
      "----------------------------------------------------\n",
      "15.8 M    Trainable params\n",
      "0         Non-trainable params\n",
      "15.8 M    Total params\n",
      "63.252    Total estimated model params size (MB)\n",
      "\u001b[32m[I 2021-03-19 14:44:53,945]\u001b[0m Trial 65 finished with value: 0.1 and parameters: {'planes': 25, 'downsampling_factor': 3, 'encoder_num_blocks': 15, 'decoder_num_blocks': 5, 'smooth_num_blocks': 15, 'agg_block': 'Attention', 'mode': 'mean', 'num_heads': 8, 'dim_feedforward': 64, 'num_layers': 4}. Best is trial 0 with value: 0.1.\u001b[0m\n",
      "CometLogger will be initialized in online mode\n",
      "GPU available: True, used: True\n",
      "TPU available: None, using: 0 TPU cores\n"
     ]
    },
    {
     "name": "stdout",
     "output_type": "stream",
     "text": [
      "An exception occurred\n"
     ]
    },
    {
     "name": "stderr",
     "output_type": "stream",
     "text": [
      "COMET INFO: Experiment is live on comet.ml https://www.comet.ml/semjon/specshadocc/d549fbfdaa6a4b0f84ca5390e2d1f946\n",
      "\n",
      "\n",
      "  | Name       | Type                 | Params\n",
      "----------------------------------------------------\n",
      "0 | input      | Conv2d               | 700   \n",
      "1 | output     | Conv2d               | 678   \n",
      "2 | downsample | Sequential           | 236 K \n",
      "3 | upsample   | Sequential           | 236 K \n",
      "4 | encoder    | Sequential           | 10.8 M\n",
      "5 | agg        | AttentionAggregation | 749 K \n",
      "6 | decoder    | Sequential           | 14.4 M\n",
      "7 | smooth     | Sequential           | 67.8 K\n",
      "----------------------------------------------------\n",
      "26.5 M    Trainable params\n",
      "0         Non-trainable params\n",
      "26.5 M    Total params\n",
      "106.024   Total estimated model params size (MB)\n",
      "\u001b[32m[I 2021-03-19 14:45:00,287]\u001b[0m Trial 66 finished with value: 0.1 and parameters: {'planes': 25, 'downsampling_factor': 3, 'encoder_num_blocks': 15, 'decoder_num_blocks': 20, 'smooth_num_blocks': 5, 'agg_block': 'Attention', 'mode': 'sum', 'num_heads': 8, 'dim_feedforward': 64, 'num_layers': 4}. Best is trial 0 with value: 0.1.\u001b[0m\n",
      "CometLogger will be initialized in online mode\n",
      "GPU available: True, used: True\n",
      "TPU available: None, using: 0 TPU cores\n"
     ]
    },
    {
     "name": "stdout",
     "output_type": "stream",
     "text": [
      "An exception occurred\n"
     ]
    },
    {
     "name": "stderr",
     "output_type": "stream",
     "text": [
      "COMET INFO: Experiment is live on comet.ml https://www.comet.ml/semjon/specshadocc/fc36d5c15c6d47a6abb1a846672ed2f9\n",
      "\n",
      "\n",
      "  | Name       | Type                 | Params\n",
      "----------------------------------------------------\n",
      "0 | input      | Conv2d               | 700   \n",
      "1 | output     | Conv2d               | 678   \n",
      "2 | downsample | Sequential           | 236 K \n",
      "3 | upsample   | Sequential           | 236 K \n",
      "4 | encoder    | Sequential           | 10.8 M\n",
      "5 | agg        | AttentionAggregation | 749 K \n",
      "6 | decoder    | Sequential           | 14.4 M\n",
      "7 | smooth     | Sequential           | 67.8 K\n",
      "----------------------------------------------------\n",
      "26.5 M    Trainable params\n",
      "0         Non-trainable params\n",
      "26.5 M    Total params\n",
      "106.024   Total estimated model params size (MB)\n",
      "\u001b[32m[I 2021-03-19 14:45:06,638]\u001b[0m Trial 67 finished with value: 0.1 and parameters: {'planes': 25, 'downsampling_factor': 3, 'encoder_num_blocks': 15, 'decoder_num_blocks': 20, 'smooth_num_blocks': 5, 'agg_block': 'Attention', 'mode': 'mean', 'num_heads': 8, 'dim_feedforward': 64, 'num_layers': 4}. Best is trial 0 with value: 0.1.\u001b[0m\n",
      "\u001b[32m[I 2021-03-19 14:45:06,662]\u001b[0m Trial 68 finished with value: 0.1 and parameters: {'planes': 25, 'downsampling_factor': 0, 'encoder_num_blocks': 5, 'decoder_num_blocks': 20, 'smooth_num_blocks': 5, 'agg_block': 'Attention', 'mode': 'mean', 'num_heads': 8, 'dim_feedforward': 64, 'num_layers': 4}. Best is trial 0 with value: 0.1.\u001b[0m\n",
      "\u001b[32m[I 2021-03-19 14:45:06,686]\u001b[0m Trial 69 finished with value: 0.1 and parameters: {'planes': 25, 'downsampling_factor': 0, 'encoder_num_blocks': 5, 'decoder_num_blocks': 20, 'smooth_num_blocks': 10, 'agg_block': 'Attention', 'mode': 'mean', 'num_heads': 8, 'dim_feedforward': 64, 'num_layers': 4}. Best is trial 0 with value: 0.1.\u001b[0m\n",
      "CometLogger will be initialized in online mode\n",
      "GPU available: True, used: True\n",
      "TPU available: None, using: 0 TPU cores\n"
     ]
    },
    {
     "name": "stdout",
     "output_type": "stream",
     "text": [
      "An exception occurred\n",
      "An exception occurred\n",
      "An exception occurred\n"
     ]
    },
    {
     "name": "stderr",
     "output_type": "stream",
     "text": [
      "COMET INFO: Experiment is live on comet.ml https://www.comet.ml/semjon/specshadocc/e1eebfdd23d94ef389a94b81d0254eb3\n",
      "\n",
      "\n",
      "  | Name       | Type                 | Params\n",
      "----------------------------------------------------\n",
      "0 | input      | Conv2d               | 560   \n",
      "1 | output     | Conv2d               | 543   \n",
      "2 | downsample | Sequential           | 36.1 K\n",
      "3 | upsample   | Sequential           | 36.1 K\n",
      "4 | encoder    | Sequential           | 1.7 M \n",
      "5 | agg        | AttentionAggregation | 187 K \n",
      "6 | decoder    | Sequential           | 2.3 M \n",
      "7 | smooth     | Sequential           | 43.4 K\n",
      "----------------------------------------------------\n",
      "4.3 M     Trainable params\n",
      "0         Non-trainable params\n",
      "4.3 M     Total params\n",
      "17.368    Total estimated model params size (MB)\n",
      "\u001b[32m[I 2021-03-19 14:45:12,940]\u001b[0m Trial 70 finished with value: 0.1 and parameters: {'planes': 20, 'downsampling_factor': 2, 'encoder_num_blocks': 15, 'decoder_num_blocks': 20, 'smooth_num_blocks': 5, 'agg_block': 'Attention', 'mode': 'sum', 'num_heads': 8, 'dim_feedforward': 128, 'num_layers': 4}. Best is trial 0 with value: 0.1.\u001b[0m\n",
      "\u001b[32m[I 2021-03-19 14:45:12,966]\u001b[0m Trial 71 finished with value: 0.1 and parameters: {'planes': 10, 'downsampling_factor': 1, 'encoder_num_blocks': 10, 'decoder_num_blocks': 10, 'smooth_num_blocks': 20, 'agg_block': 'Attention', 'mode': 'softmax', 'num_heads': 8, 'dim_feedforward': 128, 'num_layers': 3}. Best is trial 0 with value: 0.1.\u001b[0m\n",
      "\u001b[32m[I 2021-03-19 14:45:12,991]\u001b[0m Trial 72 finished with value: 0.1 and parameters: {'planes': 10, 'downsampling_factor': 1, 'encoder_num_blocks': 10, 'decoder_num_blocks': 15, 'smooth_num_blocks': 20, 'agg_block': 'Attention', 'mode': 'softmax', 'num_heads': 8, 'dim_feedforward': 128, 'num_layers': 3}. Best is trial 0 with value: 0.1.\u001b[0m\n",
      "\u001b[32m[I 2021-03-19 14:45:13,015]\u001b[0m Trial 73 finished with value: 0.1 and parameters: {'planes': 10, 'downsampling_factor': 1, 'encoder_num_blocks': 10, 'decoder_num_blocks': 10, 'smooth_num_blocks': 20, 'agg_block': 'Attention', 'mode': 'softmax', 'num_heads': 8, 'dim_feedforward': 128, 'num_layers': 3}. Best is trial 0 with value: 0.1.\u001b[0m\n",
      "\u001b[32m[I 2021-03-19 14:45:13,039]\u001b[0m Trial 74 finished with value: 0.1 and parameters: {'planes': 10, 'downsampling_factor': 1, 'encoder_num_blocks': 10, 'decoder_num_blocks': 15, 'smooth_num_blocks': 20, 'agg_block': 'Attention', 'mode': 'softmax', 'num_heads': 8, 'dim_feedforward': 128, 'num_layers': 2}. Best is trial 0 with value: 0.1.\u001b[0m\n",
      "\u001b[32m[I 2021-03-19 14:45:13,065]\u001b[0m Trial 75 finished with value: 0.1 and parameters: {'planes': 30, 'downsampling_factor': 1, 'encoder_num_blocks': 10, 'decoder_num_blocks': 15, 'smooth_num_blocks': 20, 'agg_block': 'Attention', 'mode': 'softmax', 'num_heads': 8, 'dim_feedforward': 128, 'num_layers': 3}. Best is trial 0 with value: 0.1.\u001b[0m\n",
      "\u001b[32m[I 2021-03-19 14:45:13,092]\u001b[0m Trial 76 finished with value: 0.1 and parameters: {'planes': 30, 'downsampling_factor': 1, 'encoder_num_blocks': 10, 'decoder_num_blocks': 10, 'smooth_num_blocks': 20, 'agg_block': 'Attention', 'mode': 'softmax', 'num_heads': 8, 'dim_feedforward': 128, 'num_layers': 3}. Best is trial 0 with value: 0.1.\u001b[0m\n",
      "\u001b[32m[I 2021-03-19 14:45:13,117]\u001b[0m Trial 77 finished with value: 0.1 and parameters: {'planes': 30, 'downsampling_factor': 1, 'encoder_num_blocks': 10, 'decoder_num_blocks': 10, 'smooth_num_blocks': 20, 'agg_block': 'Attention', 'mode': 'softmax', 'num_heads': 8, 'dim_feedforward': 128, 'num_layers': 3}. Best is trial 0 with value: 0.1.\u001b[0m\n"
     ]
    },
    {
     "name": "stdout",
     "output_type": "stream",
     "text": [
      "An exception occurred\n",
      "An exception occurred\n",
      "An exception occurred\n",
      "An exception occurred\n",
      "An exception occurred\n",
      "An exception occurred\n",
      "An exception occurred\n",
      "An exception occurred\n"
     ]
    },
    {
     "name": "stderr",
     "output_type": "stream",
     "text": [
      "\u001b[32m[I 2021-03-19 14:45:13,145]\u001b[0m Trial 78 finished with value: 0.1 and parameters: {'planes': 30, 'downsampling_factor': 1, 'encoder_num_blocks': 10, 'decoder_num_blocks': 15, 'smooth_num_blocks': 10, 'agg_block': 'Attention', 'mode': 'softmax', 'num_heads': 8, 'dim_feedforward': 128, 'num_layers': 3}. Best is trial 0 with value: 0.1.\u001b[0m\n",
      "\u001b[32m[I 2021-03-19 14:45:13,169]\u001b[0m Trial 79 finished with value: 0.1 and parameters: {'planes': 15, 'downsampling_factor': 1, 'encoder_num_blocks': 10, 'decoder_num_blocks': 15, 'smooth_num_blocks': 20, 'agg_block': 'Attention', 'mode': 'softmax', 'num_heads': 8, 'dim_feedforward': 128, 'num_layers': 3}. Best is trial 0 with value: 0.1.\u001b[0m\n",
      "\u001b[32m[I 2021-03-19 14:45:13,200]\u001b[0m Trial 80 finished with value: 0.1 and parameters: {'planes': 30, 'downsampling_factor': 1, 'encoder_num_blocks': 20, 'decoder_num_blocks': 15, 'smooth_num_blocks': 20, 'agg_block': 'Attention', 'mode': 'softmax', 'num_heads': 8, 'dim_feedforward': 128, 'num_layers': 3}. Best is trial 0 with value: 0.1.\u001b[0m\n",
      "\u001b[32m[I 2021-03-19 14:45:13,231]\u001b[0m Trial 81 finished with value: 0.1 and parameters: {'planes': 30, 'downsampling_factor': 1, 'encoder_num_blocks': 20, 'decoder_num_blocks': 15, 'smooth_num_blocks': 20, 'agg_block': 'Attention', 'mode': 'sum', 'num_heads': 8, 'dim_feedforward': 128, 'num_layers': 3}. Best is trial 0 with value: 0.1.\u001b[0m\n",
      "CometLogger will be initialized in online mode\n",
      "GPU available: True, used: True\n",
      "TPU available: None, using: 0 TPU cores\n"
     ]
    },
    {
     "name": "stdout",
     "output_type": "stream",
     "text": [
      "An exception occurred\n",
      "An exception occurred\n",
      "An exception occurred\n",
      "An exception occurred\n"
     ]
    },
    {
     "name": "stderr",
     "output_type": "stream",
     "text": [
      "COMET INFO: Experiment is live on comet.ml https://www.comet.ml/semjon/specshadocc/b5bbfa0c77934e499ea027f4b043c0b9\n",
      "\n",
      "\n",
      "  | Name       | Type                 | Params\n",
      "----------------------------------------------------\n",
      "0 | input      | Conv2d               | 840   \n",
      "1 | output     | Conv2d               | 813   \n",
      "2 | downsample | Sequential           | 81.2 K\n",
      "3 | upsample   | Sequential           | 81.1 K\n",
      "4 | encoder    | Sequential           | 2.6 M \n",
      "5 | agg        | AttentionAggregation | 268 K \n",
      "6 | decoder    | Sequential           | 3.9 M \n",
      "7 | smooth     | Sequential           | 341 K \n",
      "----------------------------------------------------\n",
      "7.3 M     Trainable params\n",
      "0         Non-trainable params\n",
      "7.3 M     Total params\n",
      "29.040    Total estimated model params size (MB)\n",
      "\u001b[32m[I 2021-03-19 14:45:19,570]\u001b[0m Trial 82 finished with value: 0.1 and parameters: {'planes': 30, 'downsampling_factor': 2, 'encoder_num_blocks': 10, 'decoder_num_blocks': 15, 'smooth_num_blocks': 20, 'agg_block': 'Attention', 'mode': 'sum', 'num_heads': 4, 'dim_feedforward': 128, 'num_layers': 3}. Best is trial 0 with value: 0.1.\u001b[0m\n",
      "CometLogger will be initialized in online mode\n",
      "GPU available: True, used: True\n",
      "TPU available: None, using: 0 TPU cores\n"
     ]
    },
    {
     "name": "stdout",
     "output_type": "stream",
     "text": [
      "An exception occurred\n"
     ]
    },
    {
     "name": "stderr",
     "output_type": "stream",
     "text": [
      "COMET INFO: Experiment is live on comet.ml https://www.comet.ml/semjon/specshadocc/7390577b8013438cbea3a86b7f5a7ef2\n",
      "\n",
      "\n",
      "  | Name       | Type                 | Params\n",
      "----------------------------------------------------\n",
      "0 | input      | Conv2d               | 840   \n",
      "1 | output     | Conv2d               | 813   \n",
      "2 | downsample | Sequential           | 81.2 K\n",
      "3 | upsample   | Sequential           | 81.1 K\n",
      "4 | encoder    | Sequential           | 2.6 M \n",
      "5 | agg        | AttentionAggregation | 222 K \n",
      "6 | decoder    | Sequential           | 3.9 M \n",
      "7 | smooth     | Sequential           | 341 K \n",
      "----------------------------------------------------\n",
      "7.2 M     Trainable params\n",
      "0         Non-trainable params\n",
      "7.2 M     Total params\n",
      "28.855    Total estimated model params size (MB)\n",
      "\u001b[32m[I 2021-03-19 14:45:25,960]\u001b[0m Trial 83 finished with value: 0.1 and parameters: {'planes': 30, 'downsampling_factor': 2, 'encoder_num_blocks': 10, 'decoder_num_blocks': 15, 'smooth_num_blocks': 20, 'agg_block': 'Attention', 'mode': 'sum', 'num_heads': 4, 'dim_feedforward': 64, 'num_layers': 3}. Best is trial 0 with value: 0.1.\u001b[0m\n",
      "CometLogger will be initialized in online mode\n",
      "GPU available: True, used: True\n",
      "TPU available: None, using: 0 TPU cores\n"
     ]
    },
    {
     "name": "stdout",
     "output_type": "stream",
     "text": [
      "An exception occurred\n"
     ]
    },
    {
     "name": "stderr",
     "output_type": "stream",
     "text": [
      "COMET INFO: Experiment is live on comet.ml https://www.comet.ml/semjon/specshadocc/25a48e201d3843289f3f939ba3ca02e2\n",
      "\n",
      "\n",
      "  | Name       | Type                 | Params\n",
      "----------------------------------------------------\n",
      "0 | input      | Conv2d               | 840   \n",
      "1 | output     | Conv2d               | 813   \n",
      "2 | downsample | Sequential           | 81.2 K\n",
      "3 | upsample   | Sequential           | 81.1 K\n",
      "4 | encoder    | Sequential           | 1.3 M \n",
      "5 | agg        | AttentionAggregation | 148 K \n",
      "6 | decoder    | Sequential           | 1.3 M \n",
      "7 | smooth     | Sequential           | 260 K \n",
      "----------------------------------------------------\n",
      "3.2 M     Trainable params\n",
      "0         Non-trainable params\n",
      "3.2 M     Total params\n",
      "12.667    Total estimated model params size (MB)\n",
      "\u001b[32m[I 2021-03-19 14:45:32,028]\u001b[0m Trial 84 finished with value: 0.1 and parameters: {'planes': 30, 'downsampling_factor': 2, 'encoder_num_blocks': 5, 'decoder_num_blocks': 5, 'smooth_num_blocks': 15, 'agg_block': 'Attention', 'mode': 'sum', 'num_heads': 4, 'dim_feedforward': 64, 'num_layers': 2}. Best is trial 0 with value: 0.1.\u001b[0m\n",
      "CometLogger will be initialized in online mode\n",
      "GPU available: True, used: True\n",
      "TPU available: None, using: 0 TPU cores\n"
     ]
    },
    {
     "name": "stdout",
     "output_type": "stream",
     "text": [
      "An exception occurred\n"
     ]
    },
    {
     "name": "stderr",
     "output_type": "stream",
     "text": [
      "COMET INFO: Experiment is live on comet.ml https://www.comet.ml/semjon/specshadocc/c732d3906e194e2f82ef758b3a039e8c\n",
      "\n",
      "\n",
      "  | Name       | Type                 | Params\n",
      "----------------------------------------------------\n",
      "0 | input      | Conv2d               | 840   \n",
      "1 | output     | Conv2d               | 813   \n",
      "2 | downsample | Sequential           | 81.2 K\n",
      "3 | upsample   | Sequential           | 81.1 K\n",
      "4 | encoder    | Sequential           | 1.3 M \n",
      "5 | agg        | AttentionAggregation | 222 K \n",
      "6 | decoder    | Sequential           | 1.3 M \n",
      "7 | smooth     | Sequential           | 260 K \n",
      "----------------------------------------------------\n",
      "3.2 M     Trainable params\n",
      "0         Non-trainable params\n",
      "3.2 M     Total params\n",
      "12.963    Total estimated model params size (MB)\n",
      "\u001b[32m[I 2021-03-19 14:45:38,700]\u001b[0m Trial 85 finished with value: 0.1 and parameters: {'planes': 30, 'downsampling_factor': 2, 'encoder_num_blocks': 5, 'decoder_num_blocks': 5, 'smooth_num_blocks': 15, 'agg_block': 'Attention', 'mode': 'sum', 'num_heads': 4, 'dim_feedforward': 64, 'num_layers': 3}. Best is trial 0 with value: 0.1.\u001b[0m\n",
      "\u001b[32m[I 2021-03-19 14:45:38,723]\u001b[0m Trial 86 finished with value: 0.1 and parameters: {'planes': 30, 'downsampling_factor': 0, 'encoder_num_blocks': 5, 'decoder_num_blocks': 5, 'smooth_num_blocks': 15, 'agg_block': 'Attention', 'mode': 'sum', 'num_heads': 4, 'dim_feedforward': 64, 'num_layers': 2}. Best is trial 0 with value: 0.1.\u001b[0m\n",
      "\u001b[32m[I 2021-03-19 14:45:38,746]\u001b[0m Trial 87 finished with value: 0.1 and parameters: {'planes': 25, 'downsampling_factor': 0, 'encoder_num_blocks': 5, 'decoder_num_blocks': 5, 'smooth_num_blocks': 15, 'agg_block': 'Attention', 'mode': 'mean', 'num_heads': 4, 'dim_feedforward': 64, 'num_layers': 4}. Best is trial 0 with value: 0.1.\u001b[0m\n",
      "\u001b[32m[I 2021-03-19 14:45:38,769]\u001b[0m Trial 88 finished with value: 0.1 and parameters: {'planes': 25, 'downsampling_factor': 0, 'encoder_num_blocks': 5, 'decoder_num_blocks': 5, 'smooth_num_blocks': 15, 'agg_block': 'Attention', 'mode': 'mean', 'num_heads': 4, 'dim_feedforward': 64, 'num_layers': 4}. Best is trial 0 with value: 0.1.\u001b[0m\n",
      "\u001b[32m[I 2021-03-19 14:45:38,791]\u001b[0m Trial 89 finished with value: 0.1 and parameters: {'planes': 25, 'downsampling_factor': 0, 'encoder_num_blocks': 5, 'decoder_num_blocks': 5, 'smooth_num_blocks': 15, 'agg_block': 'Attention', 'mode': 'mean', 'num_heads': 4, 'dim_feedforward': 64, 'num_layers': 4}. Best is trial 0 with value: 0.1.\u001b[0m\n",
      "CometLogger will be initialized in online mode\n",
      "GPU available: True, used: True\n",
      "TPU available: None, using: 0 TPU cores\n"
     ]
    },
    {
     "name": "stdout",
     "output_type": "stream",
     "text": [
      "An exception occurred\n",
      "An exception occurred\n",
      "An exception occurred\n",
      "An exception occurred\n",
      "An exception occurred\n"
     ]
    },
    {
     "name": "stderr",
     "output_type": "stream",
     "text": [
      "COMET INFO: Experiment is live on comet.ml https://www.comet.ml/semjon/specshadocc/1bcedcb4a5024ddba53f61197a1c0a12\n",
      "\n",
      "\n",
      "  | Name       | Type                 | Params\n",
      "----------------------------------------------------\n",
      "0 | input      | Conv2d               | 700   \n",
      "1 | output     | Conv2d               | 678   \n",
      "2 | downsample | Sequential           | 236 K \n",
      "3 | upsample   | Sequential           | 236 K \n",
      "4 | encoder    | Sequential           | 3.6 M \n",
      "5 | agg        | AttentionAggregation | 749 K \n",
      "6 | decoder    | Sequential           | 3.6 M \n",
      "7 | smooth     | Sequential           | 180 K \n",
      "----------------------------------------------------\n",
      "8.6 M     Trainable params\n",
      "0         Non-trainable params\n",
      "8.6 M     Total params\n",
      "34.436    Total estimated model params size (MB)\n",
      "\u001b[32m[I 2021-03-19 14:45:44,770]\u001b[0m Trial 90 finished with value: 0.1 and parameters: {'planes': 25, 'downsampling_factor': 3, 'encoder_num_blocks': 5, 'decoder_num_blocks': 5, 'smooth_num_blocks': 15, 'agg_block': 'Attention', 'mode': 'mean', 'num_heads': 4, 'dim_feedforward': 64, 'num_layers': 4}. Best is trial 0 with value: 0.1.\u001b[0m\n",
      "CometLogger will be initialized in online mode\n",
      "GPU available: True, used: True\n",
      "TPU available: None, using: 0 TPU cores\n"
     ]
    },
    {
     "name": "stdout",
     "output_type": "stream",
     "text": [
      "An exception occurred\n"
     ]
    },
    {
     "name": "stderr",
     "output_type": "stream",
     "text": [
      "COMET INFO: Experiment is live on comet.ml https://www.comet.ml/semjon/specshadocc/5b9fb54e04c44f97b04ea7cb6c49e8ab\n",
      "\n",
      "\n",
      "  | Name       | Type                 | Params\n",
      "----------------------------------------------------\n",
      "0 | input      | Conv2d               | 700   \n",
      "1 | output     | Conv2d               | 678   \n",
      "2 | downsample | Sequential           | 236 K \n",
      "3 | upsample   | Sequential           | 236 K \n",
      "4 | encoder    | Sequential           | 3.6 M \n",
      "5 | agg        | AttentionAggregation | 749 K \n",
      "6 | decoder    | Sequential           | 3.6 M \n",
      "7 | smooth     | Sequential           | 180 K \n",
      "----------------------------------------------------\n",
      "8.6 M     Trainable params\n",
      "0         Non-trainable params\n",
      "8.6 M     Total params\n",
      "34.436    Total estimated model params size (MB)\n",
      "\u001b[32m[I 2021-03-19 14:45:51,080]\u001b[0m Trial 91 finished with value: 0.1 and parameters: {'planes': 25, 'downsampling_factor': 3, 'encoder_num_blocks': 5, 'decoder_num_blocks': 5, 'smooth_num_blocks': 15, 'agg_block': 'Attention', 'mode': 'mean', 'num_heads': 4, 'dim_feedforward': 64, 'num_layers': 4}. Best is trial 0 with value: 0.1.\u001b[0m\n",
      "CometLogger will be initialized in online mode\n",
      "GPU available: True, used: True\n",
      "TPU available: None, using: 0 TPU cores\n"
     ]
    },
    {
     "name": "stdout",
     "output_type": "stream",
     "text": [
      "An exception occurred\n"
     ]
    },
    {
     "name": "stderr",
     "output_type": "stream",
     "text": [
      "COMET INFO: Experiment is live on comet.ml https://www.comet.ml/semjon/specshadocc/a1d65778f335419390796bd2be35da83\n",
      "\n",
      "\n",
      "  | Name       | Type                 | Params\n",
      "----------------------------------------------------\n",
      "0 | input      | Conv2d               | 700   \n",
      "1 | output     | Conv2d               | 678   \n",
      "2 | downsample | Sequential           | 236 K \n",
      "3 | upsample   | Sequential           | 236 K \n",
      "4 | encoder    | Sequential           | 10.8 M\n",
      "5 | agg        | AttentionAggregation | 749 K \n",
      "6 | decoder    | Sequential           | 3.6 M \n",
      "7 | smooth     | Sequential           | 180 K \n",
      "----------------------------------------------------\n",
      "15.8 M    Trainable params\n",
      "0         Non-trainable params\n",
      "15.8 M    Total params\n",
      "63.252    Total estimated model params size (MB)\n",
      "\u001b[32m[I 2021-03-19 14:45:57,951]\u001b[0m Trial 92 finished with value: 0.1 and parameters: {'planes': 25, 'downsampling_factor': 3, 'encoder_num_blocks': 15, 'decoder_num_blocks': 5, 'smooth_num_blocks': 15, 'agg_block': 'Attention', 'mode': 'mean', 'num_heads': 4, 'dim_feedforward': 64, 'num_layers': 4}. Best is trial 0 with value: 0.1.\u001b[0m\n",
      "CometLogger will be initialized in online mode\n",
      "GPU available: True, used: True\n",
      "TPU available: None, using: 0 TPU cores\n"
     ]
    },
    {
     "name": "stdout",
     "output_type": "stream",
     "text": [
      "An exception occurred\n"
     ]
    },
    {
     "name": "stderr",
     "output_type": "stream",
     "text": [
      "COMET INFO: Experiment is live on comet.ml https://www.comet.ml/semjon/specshadocc/311d4dd6c48348d7bc6559e0b739ca74\n",
      "\n",
      "\n",
      "  | Name       | Type                 | Params\n",
      "----------------------------------------------------\n",
      "0 | input      | Conv2d               | 700   \n",
      "1 | output     | Conv2d               | 678   \n",
      "2 | downsample | Sequential           | 236 K \n",
      "3 | upsample   | Sequential           | 236 K \n",
      "4 | encoder    | Sequential           | 10.8 M\n",
      "5 | agg        | AttentionAggregation | 749 K \n",
      "6 | decoder    | Sequential           | 3.6 M \n",
      "7 | smooth     | Sequential           | 180 K \n",
      "----------------------------------------------------\n",
      "15.8 M    Trainable params\n",
      "0         Non-trainable params\n",
      "15.8 M    Total params\n",
      "63.252    Total estimated model params size (MB)\n",
      "\u001b[32m[I 2021-03-19 14:46:04,848]\u001b[0m Trial 93 finished with value: 0.1 and parameters: {'planes': 25, 'downsampling_factor': 3, 'encoder_num_blocks': 15, 'decoder_num_blocks': 5, 'smooth_num_blocks': 15, 'agg_block': 'Attention', 'mode': 'mean', 'num_heads': 4, 'dim_feedforward': 64, 'num_layers': 4}. Best is trial 0 with value: 0.1.\u001b[0m\n",
      "CometLogger will be initialized in online mode\n",
      "GPU available: True, used: True\n",
      "TPU available: None, using: 0 TPU cores\n"
     ]
    },
    {
     "name": "stdout",
     "output_type": "stream",
     "text": [
      "An exception occurred\n"
     ]
    },
    {
     "name": "stderr",
     "output_type": "stream",
     "text": [
      "COMET INFO: Experiment is live on comet.ml https://www.comet.ml/semjon/specshadocc/b84314ba0f154c6eb805ad6e14cca740\n",
      "\n",
      "\n",
      "  | Name       | Type                 | Params\n",
      "----------------------------------------------------\n",
      "0 | input      | Conv2d               | 700   \n",
      "1 | output     | Conv2d               | 678   \n",
      "2 | downsample | Sequential           | 236 K \n",
      "3 | upsample   | Sequential           | 236 K \n",
      "4 | encoder    | Sequential           | 10.8 M\n",
      "5 | agg        | AttentionAggregation | 749 K \n",
      "6 | decoder    | Sequential           | 14.4 M\n",
      "7 | smooth     | Sequential           | 67.8 K\n",
      "----------------------------------------------------\n",
      "26.5 M    Trainable params\n",
      "0         Non-trainable params\n",
      "26.5 M    Total params\n",
      "106.024   Total estimated model params size (MB)\n",
      "\u001b[32m[I 2021-03-19 14:46:11,796]\u001b[0m Trial 94 finished with value: 0.1 and parameters: {'planes': 25, 'downsampling_factor': 3, 'encoder_num_blocks': 15, 'decoder_num_blocks': 20, 'smooth_num_blocks': 5, 'agg_block': 'Attention', 'mode': 'mean', 'num_heads': 4, 'dim_feedforward': 64, 'num_layers': 4}. Best is trial 0 with value: 0.1.\u001b[0m\n",
      "\u001b[32m[I 2021-03-19 14:46:11,821]\u001b[0m Trial 95 finished with value: 0.1 and parameters: {'planes': 25, 'downsampling_factor': 0, 'encoder_num_blocks': 15, 'decoder_num_blocks': 20, 'smooth_num_blocks': 5, 'agg_block': 'Attention', 'mode': 'mean', 'num_heads': 8, 'dim_feedforward': 64, 'num_layers': 4}. Best is trial 0 with value: 0.1.\u001b[0m\n",
      "CometLogger will be initialized in online mode\n"
     ]
    },
    {
     "name": "stdout",
     "output_type": "stream",
     "text": [
      "An exception occurred\n",
      "An exception occurred\n"
     ]
    },
    {
     "name": "stderr",
     "output_type": "stream",
     "text": [
      "GPU available: True, used: True\n",
      "TPU available: None, using: 0 TPU cores\n",
      "COMET INFO: Experiment is live on comet.ml https://www.comet.ml/semjon/specshadocc/233ed345a84b49089b9f455c783d9064\n",
      "\n",
      "\n",
      "  | Name       | Type                 | Params\n",
      "----------------------------------------------------\n",
      "0 | input      | Conv2d               | 700   \n",
      "1 | output     | Conv2d               | 678   \n",
      "2 | downsample | Sequential           | 236 K \n",
      "3 | upsample   | Sequential           | 236 K \n",
      "4 | encoder    | Sequential           | 10.8 M\n",
      "5 | agg        | AttentionAggregation | 749 K \n",
      "6 | decoder    | Sequential           | 14.4 M\n",
      "7 | smooth     | Sequential           | 67.8 K\n",
      "----------------------------------------------------\n",
      "26.5 M    Trainable params\n",
      "0         Non-trainable params\n",
      "26.5 M    Total params\n",
      "106.024   Total estimated model params size (MB)\n",
      "\u001b[32m[I 2021-03-19 14:46:18,246]\u001b[0m Trial 96 finished with value: 0.1 and parameters: {'planes': 25, 'downsampling_factor': 3, 'encoder_num_blocks': 15, 'decoder_num_blocks': 20, 'smooth_num_blocks': 5, 'agg_block': 'Attention', 'mode': 'mean', 'num_heads': 8, 'dim_feedforward': 64, 'num_layers': 4}. Best is trial 0 with value: 0.1.\u001b[0m\n",
      "CometLogger will be initialized in online mode\n",
      "GPU available: True, used: True\n",
      "TPU available: None, using: 0 TPU cores\n"
     ]
    },
    {
     "name": "stdout",
     "output_type": "stream",
     "text": [
      "An exception occurred\n"
     ]
    },
    {
     "name": "stderr",
     "output_type": "stream",
     "text": [
      "COMET INFO: Experiment is live on comet.ml https://www.comet.ml/semjon/specshadocc/12851cd1f9cd427ba9b24f5704bb451e\n",
      "\n",
      "\n",
      "  | Name       | Type                 | Params\n",
      "----------------------------------------------------\n",
      "0 | input      | Conv2d               | 700   \n",
      "1 | output     | Conv2d               | 678   \n",
      "2 | downsample | Sequential           | 236 K \n",
      "3 | upsample   | Sequential           | 236 K \n",
      "4 | encoder    | Sequential           | 3.6 M \n",
      "5 | agg        | AttentionAggregation | 749 K \n",
      "6 | decoder    | Sequential           | 14.4 M\n",
      "7 | smooth     | Sequential           | 67.8 K\n",
      "----------------------------------------------------\n",
      "19.3 M    Trainable params\n",
      "0         Non-trainable params\n",
      "19.3 M    Total params\n",
      "77.208    Total estimated model params size (MB)\n",
      "\u001b[32m[I 2021-03-19 14:46:24,446]\u001b[0m Trial 97 finished with value: 0.1 and parameters: {'planes': 25, 'downsampling_factor': 3, 'encoder_num_blocks': 5, 'decoder_num_blocks': 20, 'smooth_num_blocks': 5, 'agg_block': 'Attention', 'mode': 'mean', 'num_heads': 8, 'dim_feedforward': 64, 'num_layers': 4}. Best is trial 0 with value: 0.1.\u001b[0m\n",
      "CometLogger will be initialized in online mode\n"
     ]
    },
    {
     "name": "stdout",
     "output_type": "stream",
     "text": [
      "An exception occurred\n"
     ]
    },
    {
     "name": "stderr",
     "output_type": "stream",
     "text": [
      "GPU available: True, used: True\n",
      "TPU available: None, using: 0 TPU cores\n",
      "COMET INFO: Experiment is live on comet.ml https://www.comet.ml/semjon/specshadocc/47219d6bc1ad4ff69642dd7de9e7a4c5\n",
      "\n",
      "\n",
      "  | Name       | Type                 | Params\n",
      "----------------------------------------------------\n",
      "0 | input      | Conv2d               | 700   \n",
      "1 | output     | Conv2d               | 678   \n",
      "2 | downsample | Sequential           | 236 K \n",
      "3 | upsample   | Sequential           | 236 K \n",
      "4 | encoder    | Sequential           | 10.8 M\n",
      "5 | agg        | AttentionAggregation | 749 K \n",
      "6 | decoder    | Sequential           | 14.4 M\n",
      "7 | smooth     | Sequential           | 67.8 K\n",
      "----------------------------------------------------\n",
      "26.5 M    Trainable params\n",
      "0         Non-trainable params\n",
      "26.5 M    Total params\n",
      "106.024   Total estimated model params size (MB)\n",
      "\u001b[32m[I 2021-03-19 14:46:30,685]\u001b[0m Trial 98 finished with value: 0.1 and parameters: {'planes': 25, 'downsampling_factor': 3, 'encoder_num_blocks': 15, 'decoder_num_blocks': 20, 'smooth_num_blocks': 5, 'agg_block': 'Attention', 'mode': 'mean', 'num_heads': 8, 'dim_feedforward': 64, 'num_layers': 4}. Best is trial 0 with value: 0.1.\u001b[0m\n",
      "CometLogger will be initialized in online mode\n",
      "GPU available: True, used: True\n",
      "TPU available: None, using: 0 TPU cores\n"
     ]
    },
    {
     "name": "stdout",
     "output_type": "stream",
     "text": [
      "An exception occurred\n"
     ]
    },
    {
     "name": "stderr",
     "output_type": "stream",
     "text": [
      "COMET INFO: Experiment is live on comet.ml https://www.comet.ml/semjon/specshadocc/b6b40105b68740a6abe6c6e1b4800b00\n",
      "\n",
      "\n",
      "  | Name       | Type                 | Params\n",
      "----------------------------------------------------\n",
      "0 | input      | Conv2d               | 700   \n",
      "1 | output     | Conv2d               | 678   \n",
      "2 | downsample | Sequential           | 236 K \n",
      "3 | upsample   | Sequential           | 236 K \n",
      "4 | encoder    | Sequential           | 10.8 M\n",
      "5 | agg        | AttentionAggregation | 749 K \n",
      "6 | decoder    | Sequential           | 14.4 M\n",
      "7 | smooth     | Sequential           | 67.8 K\n",
      "----------------------------------------------------\n",
      "26.5 M    Trainable params\n",
      "0         Non-trainable params\n",
      "26.5 M    Total params\n",
      "106.024   Total estimated model params size (MB)\n",
      "\u001b[32m[I 2021-03-19 14:46:37,018]\u001b[0m Trial 99 finished with value: 0.1 and parameters: {'planes': 25, 'downsampling_factor': 3, 'encoder_num_blocks': 15, 'decoder_num_blocks': 20, 'smooth_num_blocks': 5, 'agg_block': 'Attention', 'mode': 'mean', 'num_heads': 8, 'dim_feedforward': 64, 'num_layers': 4}. Best is trial 0 with value: 0.1.\u001b[0m\n"
     ]
    },
    {
     "name": "stdout",
     "output_type": "stream",
     "text": [
      "An exception occurred\n"
     ]
    }
   ],
   "source": [
    "sampler = optuna.samplers.TPESampler(seed=10)\n",
    "\n",
    "study = optuna.create_study(direction='minimize', sampler=sampler)\n",
    "study.optimize(objective, n_trials=100)"
   ]
  }
 ],
 "metadata": {
  "kernelspec": {
   "display_name": "Python 3",
   "language": "python",
   "name": "python3"
  },
  "language_info": {
   "codemirror_mode": {
    "name": "ipython",
    "version": 3
   },
   "file_extension": ".py",
   "mimetype": "text/x-python",
   "name": "python",
   "nbconvert_exporter": "python",
   "pygments_lexer": "ipython3",
   "version": "3.8.5"
  }
 },
 "nbformat": 4,
 "nbformat_minor": 4
}
