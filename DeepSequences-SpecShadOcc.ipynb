{
 "cells": [
  {
   "cell_type": "markdown",
   "metadata": {},
   "source": [
    "# Train Model"
   ]
  },
  {
   "cell_type": "code",
   "execution_count": null,
   "metadata": {},
   "outputs": [],
   "source": [
    "from comet_ml import Experiment\n",
    "from pytorch_lightning.loggers import CometLogger\n",
    "import datasets\n",
    "import torch\n",
    "from architectures import *\n",
    "from torch.utils.data import Dataset, DataLoader\n",
    "import pytorch_lightning as pl\n",
    "import torchvision\n",
    "from pytorch_lightning.callbacks import ModelCheckpoint\n",
    "from pytorch_lightning.callbacks import LearningRateMonitor\n",
    "%config Completer.use_jedi = False"
   ]
  },
  {
   "cell_type": "code",
   "execution_count": null,
   "metadata": {},
   "outputs": [],
   "source": [
    "dataset = datasets.SpecShadOcc(\"SpecShadOcc/\", 9)\n",
    "test_length = 20\n",
    "train_dataset, test_dataset = torch.utils.data.random_split(dataset, [len(dataset)-test_length,test_length])\n",
    "train_datasets = [datasets.SpecShadOccN(dataset, i) for i in range(1,9)]"
   ]
  },
  {
   "cell_type": "code",
   "execution_count": null,
   "metadata": {},
   "outputs": [],
   "source": [
    "comet_logger = CometLogger(\n",
    "    api_key=\"tMEjeyq5M7v1IPRCvS5fyGyuo\",\n",
    "    workspace=\"semjon\", # Optional\n",
    "    project_name=\"deep-sequences\", # Optional\n",
    "    # rest_api_key=os.environ[\"COMET_REST_KEY\"], # Optional\n",
    "    save_dir='./test',\n",
    "    experiment_name=\"specshadocc\" # Optional\n",
    ")\n",
    "\n",
    "train_loader = DataLoader(train_dataset, batch_size=5, shuffle=True)\n",
    "#train_loaders = [DataLoader(train_dataset, batch_size=2, shuffle=True) for train_dataset in train_datasets] \n",
    "test_loader = DataLoader(test_dataset,batch_size=10)\n",
    "\n",
    "\n",
    "agg_params = { \n",
    "    \"num_heads\":8,\n",
    "    \"dim_feedforward\":128,\n",
    "    \"num_layers\":3\n",
    "}\n",
    "lr_monitor = LearningRateMonitor(logging_interval='step')\n",
    "net = DeepAggNet(planes=16,agg_block=\"Attention\", **agg_params)\n",
    "trainer = pl.Trainer(gpus=1,logger=comet_logger, max_epochs=1000, callbacks=[lr_monitor])\n",
    "trainer.fit(net, train_loader, val_dataloaders=test_loader)"
   ]
  },
  {
   "cell_type": "code",
   "execution_count": null,
   "metadata": {},
   "outputs": [],
   "source": [
    "net.load_from_checkpoint(checkpoint_path=\"test/deep-sequences/7281fe3a16a74af3ba4b1903652af4c0/checkpoints/epoch=509-step=4589.ckpt\")"
   ]
  },
  {
   "cell_type": "code",
   "execution_count": null,
   "metadata": {},
   "outputs": [],
   "source": [
    "for i in range(len(dataset)):\n",
    "    print(i, len(dataset.images[i]))\n",
    "    \n",
    "batches = os.listdir(\"SpecShadOcc\")\n"
   ]
  },
  {
   "cell_type": "code",
   "execution_count": 1,
   "metadata": {},
   "outputs": [
    {
     "ename": "ModuleNotFoundError",
     "evalue": "No module named 'optuna'",
     "output_type": "error",
     "traceback": [
      "\u001b[1;31m---------------------------------------------------------------------------\u001b[0m",
      "\u001b[1;31mModuleNotFoundError\u001b[0m                       Traceback (most recent call last)",
      "\u001b[1;32m<ipython-input-1-deb984238a1b>\u001b[0m in \u001b[0;36m<module>\u001b[1;34m\u001b[0m\n\u001b[1;32m----> 1\u001b[1;33m \u001b[1;32mimport\u001b[0m \u001b[0moptuna\u001b[0m\u001b[1;33m\u001b[0m\u001b[1;33m\u001b[0m\u001b[0m\n\u001b[0m",
      "\u001b[1;31mModuleNotFoundError\u001b[0m: No module named 'optuna'"
     ]
    }
   ],
   "source": [
    "import optuna"
   ]
  }
 ],
 "metadata": {
  "kernelspec": {
   "display_name": "Python 3",
   "language": "python",
   "name": "python3"
  },
  "language_info": {
   "codemirror_mode": {
    "name": "ipython",
    "version": 3
   },
   "file_extension": ".py",
   "mimetype": "text/x-python",
   "name": "python",
   "nbconvert_exporter": "python",
   "pygments_lexer": "ipython3",
   "version": "3.8.5"
  }
 },
 "nbformat": 4,
 "nbformat_minor": 4
}
