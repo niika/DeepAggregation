{
 "cells": [
  {
   "cell_type": "code",
   "execution_count": 1,
   "metadata": {},
   "outputs": [],
   "source": [
    "from comet_ml import Experiment\n",
    "from pytorch_lightning.loggers import CometLogger\n",
    "from src import datasets\n",
    "from src import training\n",
    "import torch\n",
    "from src.architectures import *\n",
    "from torch.utils.data import Dataset, DataLoader\n",
    "import pytorch_lightning as pl\n",
    "import torchvision\n",
    "from pytorch_lightning.callbacks import ModelCheckpoint\n",
    "from pytorch_lightning.callbacks import LearningRateMonitor\n",
    "import optuna\n",
    "import logging\n",
    "import pickle\n",
    "\n",
    "%config Completer.use_jedi = False"
   ]
  },
  {
   "cell_type": "code",
   "execution_count": 2,
   "metadata": {},
   "outputs": [],
   "source": [
    "  # Configure Dataset\n",
    "dataset = datasets.SpecShadOcc(\"data/SpecShadOcc/\", 9)\n",
    "test_length = 20\n",
    "train_dataset, test_dataset = torch.utils.data.random_split(dataset, [len(dataset)-test_length,test_length])\n",
    "train_datasets = [datasets.SpecShadOccN(dataset, i) for i in range(1,9)]\n",
    "train_loader = DataLoader(train_dataset, batch_size=5, shuffle=True)\n",
    "#train_loaders = [DataLoader(train_dataset, batch_size=2, shuffle=True) for train_dataset in train_datasets] \n",
    "test_loader = DataLoader(test_dataset,batch_size=10)\n"
   ]
  },
  {
   "cell_type": "code",
   "execution_count": 3,
   "metadata": {},
   "outputs": [],
   "source": [
    "def objective(trial: optuna.trial.Trial):\n",
    "    print(\"--------- starting Trial ------\")\n",
    "    torch.cuda.empty_cache()\n",
    "    train_loader = None\n",
    "    test_loader = None\n",
    "    net = None\n",
    "    trainer = None\n",
    "    \n",
    "\n",
    "    ### Create Datasets ########\n",
    "    train_loader = DataLoader(train_dataset, batch_size=5, shuffle=True)\n",
    "    #train_loaders = [DataLoader(train_dataset, batch_size=2, shuffle=True) for train_dataset in train_datasets] \n",
    "    test_loader = DataLoader(test_dataset,batch_size=10)\n",
    "    \n",
    "    \n",
    "    ######### Define Model-Parameters ###########\n",
    "    agg_block = trial.suggest_categorical(\"agg_block\",[\"Attention\", \"Mean\"])\n",
    "    params = {\n",
    "    \"planes\"  : trial.suggest_int(\"planes\", low=8, high=24, step=8),\n",
    "    \"downsampling_factor\": trial.suggest_int(\"downsampling_factor\", low=2, high=2, step=1),\n",
    "    \"encoder_num_blocks\" : trial.suggest_int(\"encoder_num_blocks\", low=5, high=20, step=5),\n",
    "    \"decoder_num_blocks\" : trial.suggest_int(\"decoder_num_blocks\", low=5, high=20, step=5),\n",
    "    \"smooth_num_blocks\"  : trial.suggest_int(\"smooth_num_blocks\", low=5, high=20, step=5),\n",
    "    \"agg_block\" : agg_block\n",
    "    }\n",
    "    experiment_name = \"specshadocc-\" + agg_block\n",
    "\n",
    "    if agg_block==\"Attention\":\n",
    "        mode = trial.suggest_categorical(\"mode\",[\"softmax\",\"sum\",\"mean\"])\n",
    "        agg_params = { \n",
    "            \"mode\": mode,\n",
    "            \"num_heads\": trial.suggest_int(\"num_heads\", low=2, high=8, step=2),\n",
    "            \"dim_feedforward\": trial.suggest_int(\"dim_feedforward\", low=64, high=128, step=64),\n",
    "            \"num_layers\": trial.suggest_int(\"num_layers\", low=2, high=4, step=1)\n",
    "        }\n",
    "        experiment_name = experiment_name +\"-\"+ mode \n",
    "    else:\n",
    "        agg_params = {\n",
    "            \"mode\": None,\n",
    "            \"num_heads\": None,\n",
    "            \"dim_feedforward\": None,\n",
    "            \"num_layers\": None\n",
    "        }\n",
    "    model_params = {**params, **agg_params}\n",
    "    \n",
    "    ######### Define Trainer-Parameters ###########\n",
    "#     COMET_ML_PROJECT = \"specshadocc-attention-vs-mean\"\n",
    "#     comet_logger = CometLogger(\n",
    "#             api_key=\"tMEjeyq5M7v1IPRCvS5fyGyuo\",\n",
    "#             workspace=\"semjon\", # Optional\n",
    "#             project_name= COMET_ML_PROJECT, # Optional\n",
    "#             # rest_api_key=os.environ[\"COMET_REST_KEY\"], \n",
    "#             save_dir='./loggers/comet-ml',\n",
    "#             experiment_name=experiment_name, # Optional,\n",
    "#             display_summary_level = 0\n",
    "#         )\n",
    "    early_stop = pl.callbacks.EarlyStopping('val_loss', patience=50)\n",
    "\n",
    "    trainer_params = {\"gpus\":1,\n",
    "                      #\"logger\": comet_logger, \n",
    "                      \"max_epochs\":100, \n",
    "                      #\"progress_bar_refresh_rate\":0,\n",
    "                      \"fast_dev_run\":True,\n",
    "                      \"callbacks\":[early_stop]}\n",
    "    \n",
    "    oom = False\n",
    "    try:\n",
    "        test_loss, _,_ = training.training(train_loader, test_loader, test_loader, DeepAggNet, model_params, trainer_params)\n",
    "        torch.cuda.empty_cache()\n",
    "        #torch.cuda.synchronize(device = torch.device('cuda:0'))\n",
    "        return test_loss\n",
    "    \n",
    "    except (RuntimeError):\n",
    "        oom = True\n",
    "        torch.cuda.empty_cache()\n",
    "        return 0.1\n",
    "        \n",
    "    if oom:\n",
    "        #torch.cuda.synchronize(device = torch.device('cuda:0'))\n",
    "        del test_loader, train_loader\n",
    "        torch.cuda.empty_cache()\n",
    "        return 0.1\n"
   ]
  },
  {
   "cell_type": "code",
   "execution_count": null,
   "metadata": {},
   "outputs": [],
   "source": [
    "params = {\n",
    "    \"planes\" : [8,16,24],\n",
    "    \"downsampling_factor\": [2],\n",
    "    \"encoder_num_blocks\" : [10],\n",
    "    \"decoder_num_blocks\" : [10],\n",
    "    \"smooth_num_blocks\"  : [10],\n",
    "    \"agg_block\": [\"Attention\"],\n",
    "    \"mode\": [\"softmax\",\"sum\",\"mean\"],\n",
    "    \"num_heads\": [2,4],\n",
    "    \"dim_feedforward\": [64],\n",
    "    \"num_layers\": [2,3,4]\n",
    "}\n",
    "#sampler = optuna.samplers.TPESampler(seed=10)\n",
    "sampler=optuna.samplers.GridSampler(params)\n",
    "study = optuna.create_study(direction='minimize', sampler=sampler)\n",
    "study.optimize(objective, n_trials=100,catch=(RuntimeError,), gc_after_trial=True)\n",
    "pickle.dump( study, open( \"study.p\", \"wb\" ) )"
   ]
  },
  {
   "cell_type": "code",
   "execution_count": 9,
   "metadata": {},
   "outputs": [
    {
     "data": {
      "text/plain": [
       "[FrozenTrial(number=16, values=[0.005607319064438343], datetime_start=datetime.datetime(2021, 3, 31, 16, 1, 39, 3196), datetime_complete=datetime.datetime(2021, 3, 31, 16, 10, 33, 547640), params={'agg_block': 'Attention', 'planes': 8, 'downsampling_factor': 2, 'encoder_num_blocks': 10, 'decoder_num_blocks': 10, 'smooth_num_blocks': 10, 'mode': 'softmax', 'num_heads': 4, 'dim_feedforward': 64, 'num_layers': 2}, distributions={'agg_block': CategoricalDistribution(choices=('Attention', 'Mean')), 'planes': IntUniformDistribution(high=24, low=8, step=8), 'downsampling_factor': IntUniformDistribution(high=2, low=2, step=1), 'encoder_num_blocks': IntUniformDistribution(high=20, low=5, step=5), 'decoder_num_blocks': IntUniformDistribution(high=20, low=5, step=5), 'smooth_num_blocks': IntUniformDistribution(high=20, low=5, step=5), 'mode': CategoricalDistribution(choices=('softmax', 'sum', 'mean')), 'num_heads': IntUniformDistribution(high=8, low=2, step=2), 'dim_feedforward': IntUniformDistribution(high=128, low=64, step=64), 'num_layers': IntUniformDistribution(high=4, low=2, step=1)}, user_attrs={}, system_attrs={'search_space': OrderedDict([('agg_block', ['Attention']), ('decoder_num_blocks', [10]), ('dim_feedforward', [64]), ('downsampling_factor', [2]), ('encoder_num_blocks', [10]), ('mode', ['mean', 'softmax', 'sum']), ('num_heads', [2, 4]), ('num_layers', [2, 3, 4]), ('planes', [8, 16, 24]), ('smooth_num_blocks', [10])]), 'grid_id': 27}, intermediate_values={}, trial_id=16, state=TrialState.COMPLETE, value=None)]"
      ]
     },
     "execution_count": 9,
     "metadata": {},
     "output_type": "execute_result"
    }
   ],
   "source": [
    "study.best_trials"
   ]
  }
 ],
 "metadata": {
  "kernelspec": {
   "display_name": "Python 3",
   "language": "python",
   "name": "python3"
  },
  "language_info": {
   "codemirror_mode": {
    "name": "ipython",
    "version": 3
   },
   "file_extension": ".py",
   "mimetype": "text/x-python",
   "name": "python",
   "nbconvert_exporter": "python",
   "pygments_lexer": "ipython3",
   "version": "3.8.5"
  }
 },
 "nbformat": 4,
 "nbformat_minor": 4
}
